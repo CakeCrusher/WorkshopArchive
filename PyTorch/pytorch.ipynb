{
  "cells": [
    {
      "cell_type": "markdown",
      "metadata": {
        "id": "qj-VrtgLqnwc"
      },
      "source": [
        "# Intro to PyTorch\n",
        "\n",
        "This notebook teaches you the basics of:\n",
        "1. Tensors\n",
        "2. Datasets\n",
        "3. Models\n",
        "4. Training loop"
      ]
    },
    {
      "cell_type": "markdown",
      "metadata": {
        "id": "jAhMOKHyqnwg"
      },
      "source": [
        "## 1. What is a Tensor?\n",
        "\n",
        "A Tensor is a multi-dimensional array, just like a NumPy array. For example,\n",
        "- A scalar like 9.7 is a 0-dimensional tensor\n",
        "- A vector like [9.7, -2.1, 7.3] is a 1-dimensional tensor\n",
        "- A matrix like [[1, 2, 3], [4, 5, 6]] is a 2-dimensional tensor\n",
        "- Anything with more dimensions we simply call a D-dimensional tensor"
      ]
    },
    {
      "cell_type": "markdown",
      "metadata": {
        "id": "Zu4-sdXAqnwg"
      },
      "source": [
        "We instantiate tensors like so:"
      ]
    },
    {
      "cell_type": "code",
      "execution_count": 1,
      "metadata": {
        "colab": {
          "base_uri": "https://localhost:8080/"
        },
        "id": "OFl-NOugqnwh",
        "outputId": "f2a90709-656c-4a1a-8e3b-594705ec6e75"
      },
      "outputs": [
        {
          "output_type": "stream",
          "name": "stdout",
          "text": [
            "tensor(4.)\n",
            "tensor(4.) tensor([1., 2., 3., 4.]) tensor([[ 5,  6],\n",
            "        [ 7,  8],\n",
            "        [ 9, 10]]) tensor([[[ 1,  2,  3],\n",
            "         [ 4,  5,  6]],\n",
            "\n",
            "        [[ 7,  8,  9],\n",
            "         [10, 11, 12]]])\n"
          ]
        }
      ],
      "source": [
        "import torch\n",
        "\n",
        "# Scalar\n",
        "t1 = torch.tensor(4.)\n",
        "print(t1)\n",
        "\n",
        "# Vector\n",
        "t2 = torch.tensor([1., 2., 3., 4.])\n",
        "\n",
        "# Matrix\n",
        "t3 = torch.tensor([\n",
        "    [5, 6],\n",
        "    [7, 8],\n",
        "    [9, 10]\n",
        "])\n",
        "\n",
        "# 3-dimensional array\n",
        "t4 = torch.tensor([\n",
        "    [\n",
        "        [1, 2, 3],\n",
        "        [4, 5, 6]\n",
        "    ],\n",
        "    [\n",
        "        [7, 8, 9],\n",
        "        [10, 11, 12]\n",
        "    ]\n",
        "])\n",
        "\n",
        "print(t1, t2, t3, t4)"
      ]
    },
    {
      "cell_type": "markdown",
      "metadata": {
        "id": "ZfG6uPM8qnwj"
      },
      "source": [
        "PyTorch tensors behave almost identically to NumPy arrays. For example, the following behaves just like you'd expect:"
      ]
    },
    {
      "cell_type": "code",
      "execution_count": 2,
      "metadata": {
        "colab": {
          "base_uri": "https://localhost:8080/"
        },
        "id": "JJrroRGDqnwj",
        "outputId": "0998960e-f786-41fa-8b47-370d0fb85b3d"
      },
      "outputs": [
        {
          "output_type": "execute_result",
          "data": {
            "text/plain": [
              "tensor([[ 0,  1,  2,  3,  4,  5,  6,  7,  8,  9],\n",
              "        [10, 11, 12, 13, 14, 15, 16, 17, 18, 19],\n",
              "        [20, 21, 22, 23, 24, 25, 26, 27, 28, 29],\n",
              "        [30, 31, 32, 33, 34, 35, 36, 37, 38, 39],\n",
              "        [40, 41, 42, 43, 44, 45, 46, 47, 48, 49],\n",
              "        [50, 51, 52, 53, 54, 55, 56, 57, 58, 59],\n",
              "        [60, 61, 62, 63, 64, 65, 66, 67, 68, 69],\n",
              "        [70, 71, 72, 73, 74, 75, 76, 77, 78, 79],\n",
              "        [80, 81, 82, 83, 84, 85, 86, 87, 88, 89],\n",
              "        [90, 91, 92, 93, 94, 95, 96, 97, 98, 99]])"
            ]
          },
          "metadata": {},
          "execution_count": 2
        }
      ],
      "source": [
        "x = torch.arange(100).reshape((10, 10))\n",
        "x"
      ]
    },
    {
      "cell_type": "code",
      "execution_count": 3,
      "metadata": {
        "colab": {
          "base_uri": "https://localhost:8080/"
        },
        "id": "n56nhKP7qnwk",
        "outputId": "ad84efe8-4a29-4e39-d6d9-cc11e6d2195b"
      },
      "outputs": [
        {
          "output_type": "execute_result",
          "data": {
            "text/plain": [
              "tensor([[  0,   5,  10,  15,  20,  25,  30,  35,  40,  45],\n",
              "        [ 50,  55,  60,  65,  70,  75,  80,  85,  90,  95],\n",
              "        [100, 105, 110, 115, 120, 125, 130, 135, 140, 145],\n",
              "        [150, 155, 160, 165, 170, 175, 180, 185, 190, 195],\n",
              "        [200, 205, 210, 215, 220, 225, 230, 235, 240, 245],\n",
              "        [250, 255, 260, 265, 270, 275, 280, 285, 290, 295],\n",
              "        [300, 305, 310, 315, 320, 325, 330, 335, 340, 345],\n",
              "        [350, 355, 360, 365, 370, 375, 380, 385, 390, 395],\n",
              "        [400, 405, 410, 415, 420, 425, 430, 435, 440, 445],\n",
              "        [450, 455, 460, 465, 470, 475, 480, 485, 490, 495]])"
            ]
          },
          "metadata": {},
          "execution_count": 3
        }
      ],
      "source": [
        "x * 5"
      ]
    },
    {
      "cell_type": "markdown",
      "metadata": {
        "id": "JT85VEo8qnwk"
      },
      "source": [
        "There are a couple of important things to note here. This is also the cause of many errors in machine learning."
      ]
    },
    {
      "cell_type": "markdown",
      "metadata": {
        "id": "MyfkFqOuqnwk"
      },
      "source": [
        "The first is dtype. dtype is the data type. This is just like a type in a traditional programming language, like float or int or long."
      ]
    },
    {
      "cell_type": "code",
      "execution_count": 4,
      "metadata": {
        "colab": {
          "base_uri": "https://localhost:8080/"
        },
        "id": "FzT-efyoqnwk",
        "outputId": "47d15a84-8c24-4359-cb62-ff27303719ec"
      },
      "outputs": [
        {
          "output_type": "execute_result",
          "data": {
            "text/plain": [
              "tensor([1, 2, 3])"
            ]
          },
          "metadata": {},
          "execution_count": 4
        }
      ],
      "source": [
        "torch.tensor([1, 2, 3], dtype=torch.int64)"
      ]
    },
    {
      "cell_type": "code",
      "execution_count": 5,
      "metadata": {
        "colab": {
          "base_uri": "https://localhost:8080/"
        },
        "id": "HZYd6ldAqnwl",
        "outputId": "9d2fc0fb-5acd-4c81-d48f-f0510d72b2ea"
      },
      "outputs": [
        {
          "output_type": "execute_result",
          "data": {
            "text/plain": [
              "tensor([1., 2., 3.])"
            ]
          },
          "metadata": {},
          "execution_count": 5
        }
      ],
      "source": [
        "torch.tensor([1, 2, 3], dtype=torch.float32)"
      ]
    },
    {
      "cell_type": "markdown",
      "metadata": {
        "id": "Syt_MRlyqnwl"
      },
      "source": [
        "You can change the dtype of tensors with the `.to` method."
      ]
    },
    {
      "cell_type": "code",
      "execution_count": 6,
      "metadata": {
        "colab": {
          "base_uri": "https://localhost:8080/"
        },
        "id": "7hi_OW06qnwl",
        "outputId": "449727d8-92bf-4ca9-96a0-12172e53cd3c"
      },
      "outputs": [
        {
          "output_type": "stream",
          "name": "stdout",
          "text": [
            "tensor([0, 1, 2, 3, 4, 5, 6, 7, 8, 9]) torch.int64\n",
            "tensor([0., 1., 2., 3., 4., 5., 6., 7., 8., 9.]) torch.float32\n"
          ]
        }
      ],
      "source": [
        "x = torch.arange(10)\n",
        "print(x, x.dtype)\n",
        "\n",
        "y = x.to(torch.float32)\n",
        "print(y, y.dtype)"
      ]
    },
    {
      "cell_type": "markdown",
      "metadata": {
        "id": "oOQLBY-oqnwm"
      },
      "source": [
        "The second thing to note about a tensor is the device. This is the device the tensor is stored on. One device is the CPU. The other device--if you have one--is the GPU.\n",
        "\n",
        "You want to use the GPU for training because it performs operations in parallel. Colab has a GPU, which you can select in the runtime.\n",
        "\n",
        "Tensors are loaded on the CPU by default."
      ]
    },
    {
      "cell_type": "code",
      "execution_count": 8,
      "metadata": {
        "colab": {
          "base_uri": "https://localhost:8080/"
        },
        "id": "pzVpCk4kqnwm",
        "outputId": "a070caf6-0083-4d67-c1e2-500ba43c3e86"
      },
      "outputs": [
        {
          "output_type": "execute_result",
          "data": {
            "text/plain": [
              "device(type='cpu')"
            ]
          },
          "metadata": {},
          "execution_count": 8
        }
      ],
      "source": [
        "x.device"
      ]
    },
    {
      "cell_type": "markdown",
      "metadata": {
        "id": "5ugatIv4qnwm"
      },
      "source": [
        "To move to the GPU, use `.to(device=\"cuda\")`."
      ]
    },
    {
      "cell_type": "code",
      "execution_count": 9,
      "metadata": {
        "colab": {
          "base_uri": "https://localhost:8080/",
          "height": 289
        },
        "id": "x1vPifUwqnwm",
        "outputId": "5fe478c9-28ac-4009-e106-e76d756cf2a5"
      },
      "outputs": [
        {
          "output_type": "error",
          "ename": "RuntimeError",
          "evalue": "Found no NVIDIA driver on your system. Please check that you have an NVIDIA GPU and installed a driver from http://www.nvidia.com/Download/index.aspx",
          "traceback": [
            "\u001b[0;31m---------------------------------------------------------------------------\u001b[0m",
            "\u001b[0;31mRuntimeError\u001b[0m                              Traceback (most recent call last)",
            "\u001b[0;32m<ipython-input-9-954104765414>\u001b[0m in \u001b[0;36m<cell line: 1>\u001b[0;34m()\u001b[0m\n\u001b[0;32m----> 1\u001b[0;31m \u001b[0mx\u001b[0m\u001b[0;34m.\u001b[0m\u001b[0mto\u001b[0m\u001b[0;34m(\u001b[0m\u001b[0mdevice\u001b[0m\u001b[0;34m=\u001b[0m\u001b[0;34m\"cuda\"\u001b[0m\u001b[0;34m)\u001b[0m\u001b[0;34m\u001b[0m\u001b[0;34m\u001b[0m\u001b[0m\n\u001b[0m",
            "\u001b[0;32m/usr/local/lib/python3.10/dist-packages/torch/cuda/__init__.py\u001b[0m in \u001b[0;36m_lazy_init\u001b[0;34m()\u001b[0m\n\u001b[1;32m    296\u001b[0m         \u001b[0;32mif\u001b[0m \u001b[0;34m\"CUDA_MODULE_LOADING\"\u001b[0m \u001b[0;32mnot\u001b[0m \u001b[0;32min\u001b[0m \u001b[0mos\u001b[0m\u001b[0;34m.\u001b[0m\u001b[0menviron\u001b[0m\u001b[0;34m:\u001b[0m\u001b[0;34m\u001b[0m\u001b[0;34m\u001b[0m\u001b[0m\n\u001b[1;32m    297\u001b[0m             \u001b[0mos\u001b[0m\u001b[0;34m.\u001b[0m\u001b[0menviron\u001b[0m\u001b[0;34m[\u001b[0m\u001b[0;34m\"CUDA_MODULE_LOADING\"\u001b[0m\u001b[0;34m]\u001b[0m \u001b[0;34m=\u001b[0m \u001b[0;34m\"LAZY\"\u001b[0m\u001b[0;34m\u001b[0m\u001b[0;34m\u001b[0m\u001b[0m\n\u001b[0;32m--> 298\u001b[0;31m         \u001b[0mtorch\u001b[0m\u001b[0;34m.\u001b[0m\u001b[0m_C\u001b[0m\u001b[0;34m.\u001b[0m\u001b[0m_cuda_init\u001b[0m\u001b[0;34m(\u001b[0m\u001b[0;34m)\u001b[0m\u001b[0;34m\u001b[0m\u001b[0;34m\u001b[0m\u001b[0m\n\u001b[0m\u001b[1;32m    299\u001b[0m         \u001b[0;31m# Some of the queued calls may reentrantly call _lazy_init();\u001b[0m\u001b[0;34m\u001b[0m\u001b[0;34m\u001b[0m\u001b[0m\n\u001b[1;32m    300\u001b[0m         \u001b[0;31m# we need to just return without initializing in that case.\u001b[0m\u001b[0;34m\u001b[0m\u001b[0;34m\u001b[0m\u001b[0m\n",
            "\u001b[0;31mRuntimeError\u001b[0m: Found no NVIDIA driver on your system. Please check that you have an NVIDIA GPU and installed a driver from http://www.nvidia.com/Download/index.aspx"
          ]
        }
      ],
      "source": [
        "x.to(device=\"cuda\")"
      ]
    },
    {
      "cell_type": "markdown",
      "source": [
        "Oftentimes, you want to make your code device-agnostic. That means it will run regardless of whether the user has a GPU or not. Doing this is a single line."
      ],
      "metadata": {
        "id": "6xn01uHbq5tL"
      }
    },
    {
      "cell_type": "code",
      "source": [
        "device = \"cuda\" if torch.cuda.is_available() else \"cpu\""
      ],
      "metadata": {
        "id": "yf8RAawsrCyN"
      },
      "execution_count": 10,
      "outputs": []
    },
    {
      "cell_type": "code",
      "source": [
        "x.to(device=device).device"
      ],
      "metadata": {
        "colab": {
          "base_uri": "https://localhost:8080/"
        },
        "id": "1G9ivDrYrJkm",
        "outputId": "71934081-6eb4-4c74-d299-230e6f2bdedd"
      },
      "execution_count": 12,
      "outputs": [
        {
          "output_type": "execute_result",
          "data": {
            "text/plain": [
              "device(type='cpu')"
            ]
          },
          "metadata": {},
          "execution_count": 12
        }
      ]
    },
    {
      "cell_type": "markdown",
      "metadata": {
        "id": "mKXiWUXdqnwn"
      },
      "source": [
        "If one tensor is on the CPU and another is on the GPU, and you try to perform an operation between them, you will encounter an error. You must move tensors to the same device before doing this."
      ]
    },
    {
      "cell_type": "code",
      "execution_count": 10,
      "metadata": {
        "colab": {
          "base_uri": "https://localhost:8080/",
          "height": 190
        },
        "id": "U8ikDlbnqnwn",
        "outputId": "6e2e218d-cd86-4cca-8867-9927c694c477"
      },
      "outputs": [
        {
          "output_type": "error",
          "ename": "RuntimeError",
          "evalue": "Expected all tensors to be on the same device, but found at least two devices, cuda:0 and cpu!",
          "traceback": [
            "\u001b[0;31m---------------------------------------------------------------------------\u001b[0m",
            "\u001b[0;31mRuntimeError\u001b[0m                              Traceback (most recent call last)",
            "\u001b[0;32m<ipython-input-10-9f79bbbece51>\u001b[0m in \u001b[0;36m<cell line: 4>\u001b[0;34m()\u001b[0m\n\u001b[1;32m      2\u001b[0m \u001b[0my\u001b[0m \u001b[0;34m=\u001b[0m \u001b[0mtorch\u001b[0m\u001b[0;34m.\u001b[0m\u001b[0marange\u001b[0m\u001b[0;34m(\u001b[0m\u001b[0;36m10\u001b[0m\u001b[0;34m,\u001b[0m \u001b[0mdevice\u001b[0m\u001b[0;34m=\u001b[0m\u001b[0;34m\"cuda\"\u001b[0m\u001b[0;34m)\u001b[0m\u001b[0;34m\u001b[0m\u001b[0;34m\u001b[0m\u001b[0m\n\u001b[1;32m      3\u001b[0m \u001b[0;34m\u001b[0m\u001b[0m\n\u001b[0;32m----> 4\u001b[0;31m \u001b[0mx\u001b[0m \u001b[0;34m+\u001b[0m \u001b[0my\u001b[0m\u001b[0;34m\u001b[0m\u001b[0;34m\u001b[0m\u001b[0m\n\u001b[0m",
            "\u001b[0;31mRuntimeError\u001b[0m: Expected all tensors to be on the same device, but found at least two devices, cuda:0 and cpu!"
          ]
        }
      ],
      "source": [
        "x = torch.arange(10)\n",
        "y = torch.arange(10, device=\"cuda\")\n",
        "\n",
        "x + y"
      ]
    },
    {
      "cell_type": "markdown",
      "metadata": {
        "id": "ctJQUKyvqnwn"
      },
      "source": [
        "## 2. What is a Dataset?\n",
        "\n",
        "To train models, you need data. The collection of data is called a dataset. Datasets are composed of tensors.\n",
        "\n",
        "To fully understand how datasets work, we will be creating our own dataset, rather than working with well known ones such as MNIST.\n",
        "\n",
        "Dataset is a class in PyTorch which allows for easy data manipulation and loading.\n",
        "\n",
        "Custom Datasets are useful when dealing with *non standard* formats or when you need to perform specific preprocessing steps."
      ]
    },
    {
      "cell_type": "code",
      "execution_count": 113,
      "metadata": {
        "id": "-KGAEl2nqnwn"
      },
      "outputs": [],
      "source": [
        "from torch.utils.data import Dataset\n",
        "\n",
        "\n",
        "class QuadraticDataset(Dataset):\n",
        "    def __init__(self):\n",
        "        self.x = torch.linspace(-10, 10, 1000).reshape((1000, 1))\n",
        "        self.y = self.x ** 2\n",
        "\n",
        "    def __len__(self):\n",
        "        return self.x.shape[0]\n",
        "\n",
        "    def __getitem__(self, idx):\n",
        "        return self.x[idx], self.y[idx]"
      ]
    },
    {
      "cell_type": "markdown",
      "metadata": {
        "id": "xKWtnfzbqnwn"
      },
      "source": [
        "\\_\\_len__(self): returns the length of the x array, indicating how many data points we have in our dataset.\n",
        "\n",
        "\\_\\_getitem__(self, idx): allows us to retrieve point coordinates given a specific index."
      ]
    },
    {
      "cell_type": "code",
      "execution_count": 114,
      "metadata": {
        "colab": {
          "base_uri": "https://localhost:8080/"
        },
        "id": "AEb5fPFBqnwo",
        "outputId": "dee0c2d9-1880-48a9-89ac-d45f6fdd1dcb"
      },
      "outputs": [
        {
          "output_type": "stream",
          "name": "stdout",
          "text": [
            "tensor([-10.]) tensor([100.])\n",
            "tensor([-9.9800]) tensor([99.6000])\n",
            "tensor([-9.9600]) tensor([99.2008])\n",
            "tensor([-9.9399]) tensor([98.8024])\n",
            "tensor([-9.9199]) tensor([98.4048])\n",
            "tensor([-9.8999]) tensor([98.0080])\n",
            "tensor([-9.8799]) tensor([97.6120])\n",
            "tensor([-9.8599]) tensor([97.2168])\n",
            "tensor([-9.8398]) tensor([96.8224])\n",
            "tensor([-9.8198]) tensor([96.4289])\n",
            "tensor([-9.7998]) tensor([96.0361])\n",
            "tensor([-9.7798]) tensor([95.6441])\n",
            "tensor([-9.7598]) tensor([95.2529])\n",
            "tensor([-9.7397]) tensor([94.8625])\n",
            "tensor([-9.7197]) tensor([94.4730])\n",
            "tensor([-9.6997]) tensor([94.0842])\n",
            "tensor([-9.6797]) tensor([93.6962])\n",
            "tensor([-9.6597]) tensor([93.3090])\n",
            "tensor([-9.6396]) tensor([92.9227])\n",
            "tensor([-9.6196]) tensor([92.5371])\n",
            "tensor([-9.5996]) tensor([92.1523])\n",
            "tensor([-9.5796]) tensor([91.7683])\n",
            "tensor([-9.5596]) tensor([91.3852])\n",
            "tensor([-9.5395]) tensor([91.0028])\n",
            "tensor([-9.5195]) tensor([90.6213])\n",
            "tensor([-9.4995]) tensor([90.2405])\n",
            "tensor([-9.4795]) tensor([89.8605])\n",
            "tensor([-9.4595]) tensor([89.4814])\n",
            "tensor([-9.4394]) tensor([89.1030])\n",
            "tensor([-9.4194]) tensor([88.7255])\n",
            "tensor([-9.3994]) tensor([88.3487])\n",
            "tensor([-9.3794]) tensor([87.9728])\n",
            "tensor([-9.3594]) tensor([87.5976])\n",
            "tensor([-9.3393]) tensor([87.2233])\n",
            "tensor([-9.3193]) tensor([86.8497])\n",
            "tensor([-9.2993]) tensor([86.4770])\n",
            "tensor([-9.2793]) tensor([86.1050])\n",
            "tensor([-9.2593]) tensor([85.7339])\n",
            "tensor([-9.2392]) tensor([85.3635])\n",
            "tensor([-9.2192]) tensor([84.9940])\n",
            "tensor([-9.1992]) tensor([84.6253])\n",
            "tensor([-9.1792]) tensor([84.2573])\n",
            "tensor([-9.1592]) tensor([83.8902])\n",
            "tensor([-9.1391]) tensor([83.5239])\n",
            "tensor([-9.1191]) tensor([83.1583])\n",
            "tensor([-9.0991]) tensor([82.7936])\n",
            "tensor([-9.0791]) tensor([82.4297])\n",
            "tensor([-9.0591]) tensor([82.0666])\n",
            "tensor([-9.0390]) tensor([81.7042])\n",
            "tensor([-9.0190]) tensor([81.3427])\n",
            "tensor([-8.9990]) tensor([80.9820])\n",
            "tensor([-8.9790]) tensor([80.6221])\n",
            "tensor([-8.9590]) tensor([80.2629])\n",
            "tensor([-8.9389]) tensor([79.9046])\n",
            "tensor([-8.9189]) tensor([79.5471])\n",
            "tensor([-8.8989]) tensor([79.1904])\n",
            "tensor([-8.8789]) tensor([78.8345])\n",
            "tensor([-8.8589]) tensor([78.4794])\n",
            "tensor([-8.8388]) tensor([78.1251])\n",
            "tensor([-8.8188]) tensor([77.7716])\n",
            "tensor([-8.7988]) tensor([77.4189])\n",
            "tensor([-8.7788]) tensor([77.0670])\n",
            "tensor([-8.7588]) tensor([76.7159])\n",
            "tensor([-8.7387]) tensor([76.3656])\n",
            "tensor([-8.7187]) tensor([76.0161])\n",
            "tensor([-8.6987]) tensor([75.6674])\n",
            "tensor([-8.6787]) tensor([75.3195])\n",
            "tensor([-8.6587]) tensor([74.9724])\n",
            "tensor([-8.6386]) tensor([74.6261])\n",
            "tensor([-8.6186]) tensor([74.2806])\n",
            "tensor([-8.5986]) tensor([73.9359])\n",
            "tensor([-8.5786]) tensor([73.5920])\n",
            "tensor([-8.5586]) tensor([73.2489])\n",
            "tensor([-8.5385]) tensor([72.9066])\n",
            "tensor([-8.5185]) tensor([72.5652])\n",
            "tensor([-8.4985]) tensor([72.2245])\n",
            "tensor([-8.4785]) tensor([71.8846])\n",
            "tensor([-8.4585]) tensor([71.5455])\n",
            "tensor([-8.4384]) tensor([71.2072])\n",
            "tensor([-8.4184]) tensor([70.8698])\n",
            "tensor([-8.3984]) tensor([70.5331])\n",
            "tensor([-8.3784]) tensor([70.1972])\n",
            "tensor([-8.3584]) tensor([69.8622])\n",
            "tensor([-8.3383]) tensor([69.5279])\n",
            "tensor([-8.3183]) tensor([69.1944])\n",
            "tensor([-8.2983]) tensor([68.8618])\n",
            "tensor([-8.2783]) tensor([68.5299])\n",
            "tensor([-8.2583]) tensor([68.1988])\n",
            "tensor([-8.2382]) tensor([67.8686])\n",
            "tensor([-8.2182]) tensor([67.5391])\n",
            "tensor([-8.1982]) tensor([67.2105])\n",
            "tensor([-8.1782]) tensor([66.8826])\n",
            "tensor([-8.1582]) tensor([66.5555])\n",
            "tensor([-8.1381]) tensor([66.2293])\n",
            "tensor([-8.1181]) tensor([65.9038])\n",
            "tensor([-8.0981]) tensor([65.5792])\n",
            "tensor([-8.0781]) tensor([65.2553])\n",
            "tensor([-8.0581]) tensor([64.9323])\n",
            "tensor([-8.0380]) tensor([64.6101])\n",
            "tensor([-8.0180]) tensor([64.2886])\n",
            "tensor([-7.9980]) tensor([63.9680])\n",
            "tensor([-7.9780]) tensor([63.6481])\n",
            "tensor([-7.9580]) tensor([63.3291])\n",
            "tensor([-7.9379]) tensor([63.0109])\n",
            "tensor([-7.9179]) tensor([62.6934])\n",
            "tensor([-7.8979]) tensor([62.3768])\n",
            "tensor([-7.8779]) tensor([62.0610])\n",
            "tensor([-7.8579]) tensor([61.7459])\n",
            "tensor([-7.8378]) tensor([61.4317])\n",
            "tensor([-7.8178]) tensor([61.1183])\n",
            "tensor([-7.7978]) tensor([60.8056])\n",
            "tensor([-7.7778]) tensor([60.4938])\n",
            "tensor([-7.7578]) tensor([60.1828])\n",
            "tensor([-7.7377]) tensor([59.8726])\n",
            "tensor([-7.7177]) tensor([59.5632])\n",
            "tensor([-7.6977]) tensor([59.2545])\n",
            "tensor([-7.6777]) tensor([58.9467])\n",
            "tensor([-7.6577]) tensor([58.6397])\n",
            "tensor([-7.6376]) tensor([58.3335])\n",
            "tensor([-7.6176]) tensor([58.0281])\n",
            "tensor([-7.5976]) tensor([57.7235])\n",
            "tensor([-7.5776]) tensor([57.4197])\n",
            "tensor([-7.5576]) tensor([57.1167])\n",
            "tensor([-7.5375]) tensor([56.8145])\n",
            "tensor([-7.5175]) tensor([56.5131])\n",
            "tensor([-7.4975]) tensor([56.2125])\n",
            "tensor([-7.4775]) tensor([55.9127])\n",
            "tensor([-7.4575]) tensor([55.6137])\n",
            "tensor([-7.4374]) tensor([55.3155])\n",
            "tensor([-7.4174]) tensor([55.0181])\n",
            "tensor([-7.3974]) tensor([54.7215])\n",
            "tensor([-7.3774]) tensor([54.4257])\n",
            "tensor([-7.3574]) tensor([54.1307])\n",
            "tensor([-7.3373]) tensor([53.8365])\n",
            "tensor([-7.3173]) tensor([53.5431])\n",
            "tensor([-7.2973]) tensor([53.2505])\n",
            "tensor([-7.2773]) tensor([52.9588])\n",
            "tensor([-7.2573]) tensor([52.6678])\n",
            "tensor([-7.2372]) tensor([52.3776])\n",
            "tensor([-7.2172]) tensor([52.0882])\n",
            "tensor([-7.1972]) tensor([51.7997])\n",
            "tensor([-7.1772]) tensor([51.5119])\n",
            "tensor([-7.1572]) tensor([51.2249])\n",
            "tensor([-7.1371]) tensor([50.9387])\n",
            "tensor([-7.1171]) tensor([50.6534])\n",
            "tensor([-7.0971]) tensor([50.3688])\n",
            "tensor([-7.0771]) tensor([50.0850])\n",
            "tensor([-7.0571]) tensor([49.8021])\n",
            "tensor([-7.0370]) tensor([49.5199])\n",
            "tensor([-7.0170]) tensor([49.2385])\n",
            "tensor([-6.9970]) tensor([48.9580])\n",
            "tensor([-6.9770]) tensor([48.6782])\n",
            "tensor([-6.9570]) tensor([48.3993])\n",
            "tensor([-6.9369]) tensor([48.1211])\n",
            "tensor([-6.9169]) tensor([47.8437])\n",
            "tensor([-6.8969]) tensor([47.5672])\n",
            "tensor([-6.8769]) tensor([47.2914])\n",
            "tensor([-6.8569]) tensor([47.0165])\n",
            "tensor([-6.8368]) tensor([46.7423])\n",
            "tensor([-6.8168]) tensor([46.4690])\n",
            "tensor([-6.7968]) tensor([46.1964])\n",
            "tensor([-6.7768]) tensor([45.9247])\n",
            "tensor([-6.7568]) tensor([45.6538])\n",
            "tensor([-6.7367]) tensor([45.3836])\n",
            "tensor([-6.7167]) tensor([45.1143])\n",
            "tensor([-6.6967]) tensor([44.8457])\n",
            "tensor([-6.6767]) tensor([44.5780])\n",
            "tensor([-6.6567]) tensor([44.3111])\n",
            "tensor([-6.6366]) tensor([44.0449])\n",
            "tensor([-6.6166]) tensor([43.7796])\n",
            "tensor([-6.5966]) tensor([43.5151])\n",
            "tensor([-6.5766]) tensor([43.2514])\n",
            "tensor([-6.5566]) tensor([42.9884])\n",
            "tensor([-6.5365]) tensor([42.7263])\n",
            "tensor([-6.5165]) tensor([42.4650])\n",
            "tensor([-6.4965]) tensor([42.2045])\n",
            "tensor([-6.4765]) tensor([41.9448])\n",
            "tensor([-6.4565]) tensor([41.6858])\n",
            "tensor([-6.4364]) tensor([41.4277])\n",
            "tensor([-6.4164]) tensor([41.1704])\n",
            "tensor([-6.3964]) tensor([40.9139])\n",
            "tensor([-6.3764]) tensor([40.6582])\n",
            "tensor([-6.3564]) tensor([40.4033])\n",
            "tensor([-6.3363]) tensor([40.1492])\n",
            "tensor([-6.3163]) tensor([39.8959])\n",
            "tensor([-6.2963]) tensor([39.6434])\n",
            "tensor([-6.2763]) tensor([39.3916])\n",
            "tensor([-6.2563]) tensor([39.1407])\n",
            "tensor([-6.2362]) tensor([38.8906])\n",
            "tensor([-6.2162]) tensor([38.6413])\n",
            "tensor([-6.1962]) tensor([38.3929])\n",
            "tensor([-6.1762]) tensor([38.1452])\n",
            "tensor([-6.1562]) tensor([37.8983])\n",
            "tensor([-6.1361]) tensor([37.6522])\n",
            "tensor([-6.1161]) tensor([37.4069])\n",
            "tensor([-6.0961]) tensor([37.1624])\n",
            "tensor([-6.0761]) tensor([36.9187])\n",
            "tensor([-6.0561]) tensor([36.6758])\n",
            "tensor([-6.0360]) tensor([36.4337])\n",
            "tensor([-6.0160]) tensor([36.1924])\n",
            "tensor([-5.9960]) tensor([35.9520])\n",
            "tensor([-5.9760]) tensor([35.7123])\n",
            "tensor([-5.9560]) tensor([35.4734])\n",
            "tensor([-5.9359]) tensor([35.2353])\n",
            "tensor([-5.9159]) tensor([34.9981])\n",
            "tensor([-5.8959]) tensor([34.7616])\n",
            "tensor([-5.8759]) tensor([34.5259])\n",
            "tensor([-5.8559]) tensor([34.2910])\n",
            "tensor([-5.8358]) tensor([34.0570])\n",
            "tensor([-5.8158]) tensor([33.8237])\n",
            "tensor([-5.7958]) tensor([33.5913])\n",
            "tensor([-5.7758]) tensor([33.3596])\n",
            "tensor([-5.7558]) tensor([33.1287])\n",
            "tensor([-5.7357]) tensor([32.8987])\n",
            "tensor([-5.7157]) tensor([32.6694])\n",
            "tensor([-5.6957]) tensor([32.4410])\n",
            "tensor([-5.6757]) tensor([32.2133])\n",
            "tensor([-5.6557]) tensor([31.9864])\n",
            "tensor([-5.6356]) tensor([31.7604])\n",
            "tensor([-5.6156]) tensor([31.5351])\n",
            "tensor([-5.5956]) tensor([31.3107])\n",
            "tensor([-5.5756]) tensor([31.0870])\n",
            "tensor([-5.5556]) tensor([30.8642])\n",
            "tensor([-5.5355]) tensor([30.6422])\n",
            "tensor([-5.5155]) tensor([30.4209])\n",
            "tensor([-5.4955]) tensor([30.2005])\n",
            "tensor([-5.4755]) tensor([29.9808])\n",
            "tensor([-5.4555]) tensor([29.7620])\n",
            "tensor([-5.4354]) tensor([29.5440])\n",
            "tensor([-5.4154]) tensor([29.3267])\n",
            "tensor([-5.3954]) tensor([29.1103])\n",
            "tensor([-5.3754]) tensor([28.8947])\n",
            "tensor([-5.3554]) tensor([28.6798])\n",
            "tensor([-5.3353]) tensor([28.4658])\n",
            "tensor([-5.3153]) tensor([28.2526])\n",
            "tensor([-5.2953]) tensor([28.0402])\n",
            "tensor([-5.2753]) tensor([27.8285])\n",
            "tensor([-5.2553]) tensor([27.6177])\n",
            "tensor([-5.2352]) tensor([27.4077])\n",
            "tensor([-5.2152]) tensor([27.1985])\n",
            "tensor([-5.1952]) tensor([26.9901])\n",
            "tensor([-5.1752]) tensor([26.7824])\n",
            "tensor([-5.1552]) tensor([26.5756])\n",
            "tensor([-5.1351]) tensor([26.3696])\n",
            "tensor([-5.1151]) tensor([26.1644])\n",
            "tensor([-5.0951]) tensor([25.9600])\n",
            "tensor([-5.0751]) tensor([25.7564])\n",
            "tensor([-5.0551]) tensor([25.5536])\n",
            "tensor([-5.0350]) tensor([25.3516])\n",
            "tensor([-5.0150]) tensor([25.1504])\n",
            "tensor([-4.9950]) tensor([24.9500])\n",
            "tensor([-4.9750]) tensor([24.7504])\n",
            "tensor([-4.9550]) tensor([24.5516])\n",
            "tensor([-4.9349]) tensor([24.3536])\n",
            "tensor([-4.9149]) tensor([24.1564])\n",
            "tensor([-4.8949]) tensor([23.9600])\n",
            "tensor([-4.8749]) tensor([23.7644])\n",
            "tensor([-4.8549]) tensor([23.5696])\n",
            "tensor([-4.8348]) tensor([23.3756])\n",
            "tensor([-4.8148]) tensor([23.1824])\n",
            "tensor([-4.7948]) tensor([22.9901])\n",
            "tensor([-4.7748]) tensor([22.7985])\n",
            "tensor([-4.7548]) tensor([22.6077])\n",
            "tensor([-4.7347]) tensor([22.4177])\n",
            "tensor([-4.7147]) tensor([22.2285])\n",
            "tensor([-4.6947]) tensor([22.0402])\n",
            "tensor([-4.6747]) tensor([21.8526])\n",
            "tensor([-4.6547]) tensor([21.6658])\n",
            "tensor([-4.6346]) tensor([21.4798])\n",
            "tensor([-4.6146]) tensor([21.2947])\n",
            "tensor([-4.5946]) tensor([21.1103])\n",
            "tensor([-4.5746]) tensor([20.9267])\n",
            "tensor([-4.5546]) tensor([20.7440])\n",
            "tensor([-4.5345]) tensor([20.5620])\n",
            "tensor([-4.5145]) tensor([20.3808])\n",
            "tensor([-4.4945]) tensor([20.2005])\n",
            "tensor([-4.4745]) tensor([20.0209])\n",
            "tensor([-4.4545]) tensor([19.8422])\n",
            "tensor([-4.4344]) tensor([19.6642])\n",
            "tensor([-4.4144]) tensor([19.4871])\n",
            "tensor([-4.3944]) tensor([19.3107])\n",
            "tensor([-4.3744]) tensor([19.1352])\n",
            "tensor([-4.3544]) tensor([18.9604])\n",
            "tensor([-4.3343]) tensor([18.7865])\n",
            "tensor([-4.3143]) tensor([18.6133])\n",
            "tensor([-4.2943]) tensor([18.4410])\n",
            "tensor([-4.2743]) tensor([18.2694])\n",
            "tensor([-4.2543]) tensor([18.0987])\n",
            "tensor([-4.2342]) tensor([17.9287])\n",
            "tensor([-4.2142]) tensor([17.7596])\n",
            "tensor([-4.1942]) tensor([17.5913])\n",
            "tensor([-4.1742]) tensor([17.4237])\n",
            "tensor([-4.1542]) tensor([17.2570])\n",
            "tensor([-4.1341]) tensor([17.0911])\n",
            "tensor([-4.1141]) tensor([16.9259])\n",
            "tensor([-4.0941]) tensor([16.7616])\n",
            "tensor([-4.0741]) tensor([16.5981])\n",
            "tensor([-4.0541]) tensor([16.4354])\n",
            "tensor([-4.0340]) tensor([16.2734])\n",
            "tensor([-4.0140]) tensor([16.1123])\n",
            "tensor([-3.9940]) tensor([15.9520])\n",
            "tensor([-3.9740]) tensor([15.7925])\n",
            "tensor([-3.9540]) tensor([15.6338])\n",
            "tensor([-3.9339]) tensor([15.4758])\n",
            "tensor([-3.9139]) tensor([15.3187])\n",
            "tensor([-3.8939]) tensor([15.1624])\n",
            "tensor([-3.8739]) tensor([15.0069])\n",
            "tensor([-3.8539]) tensor([14.8522])\n",
            "tensor([-3.8338]) tensor([14.6983])\n",
            "tensor([-3.8138]) tensor([14.5452])\n",
            "tensor([-3.7938]) tensor([14.3929])\n",
            "tensor([-3.7738]) tensor([14.2414])\n",
            "tensor([-3.7538]) tensor([14.0907])\n",
            "tensor([-3.7337]) tensor([13.9408])\n",
            "tensor([-3.7137]) tensor([13.7917])\n",
            "tensor([-3.6937]) tensor([13.6434])\n",
            "tensor([-3.6737]) tensor([13.4959])\n",
            "tensor([-3.6537]) tensor([13.3492])\n",
            "tensor([-3.6336]) tensor([13.2033])\n",
            "tensor([-3.6136]) tensor([13.0582])\n",
            "tensor([-3.5936]) tensor([12.9139])\n",
            "tensor([-3.5736]) tensor([12.7704])\n",
            "tensor([-3.5536]) tensor([12.6277])\n",
            "tensor([-3.5335]) tensor([12.4859])\n",
            "tensor([-3.5135]) tensor([12.3448])\n",
            "tensor([-3.4935]) tensor([12.2045])\n",
            "tensor([-3.4735]) tensor([12.0650])\n",
            "tensor([-3.4535]) tensor([11.9263])\n",
            "tensor([-3.4334]) tensor([11.7885])\n",
            "tensor([-3.4134]) tensor([11.6514])\n",
            "tensor([-3.3934]) tensor([11.5151])\n",
            "tensor([-3.3734]) tensor([11.3796])\n",
            "tensor([-3.3534]) tensor([11.2450])\n",
            "tensor([-3.3333]) tensor([11.1111])\n",
            "tensor([-3.3133]) tensor([10.9780])\n",
            "tensor([-3.2933]) tensor([10.8458])\n",
            "tensor([-3.2733]) tensor([10.7143])\n",
            "tensor([-3.2533]) tensor([10.5837])\n",
            "tensor([-3.2332]) tensor([10.4538])\n",
            "tensor([-3.2132]) tensor([10.3247])\n",
            "tensor([-3.1932]) tensor([10.1965])\n",
            "tensor([-3.1732]) tensor([10.0690])\n",
            "tensor([-3.1532]) tensor([9.9424])\n",
            "tensor([-3.1331]) tensor([9.8165])\n",
            "tensor([-3.1131]) tensor([9.6915])\n",
            "tensor([-3.0931]) tensor([9.5672])\n",
            "tensor([-3.0731]) tensor([9.4438])\n",
            "tensor([-3.0531]) tensor([9.3211])\n",
            "tensor([-3.0330]) tensor([9.1993])\n",
            "tensor([-3.0130]) tensor([9.0782])\n",
            "tensor([-2.9930]) tensor([8.9580])\n",
            "tensor([-2.9730]) tensor([8.8386])\n",
            "tensor([-2.9530]) tensor([8.7199])\n",
            "tensor([-2.9329]) tensor([8.6021])\n",
            "tensor([-2.9129]) tensor([8.4851])\n",
            "tensor([-2.8929]) tensor([8.3688])\n",
            "tensor([-2.8729]) tensor([8.2534])\n",
            "tensor([-2.8529]) tensor([8.1388])\n",
            "tensor([-2.8328]) tensor([8.0249])\n",
            "tensor([-2.8128]) tensor([7.9119])\n",
            "tensor([-2.7928]) tensor([7.7997])\n",
            "tensor([-2.7728]) tensor([7.6883])\n",
            "tensor([-2.7528]) tensor([7.5776])\n",
            "tensor([-2.7327]) tensor([7.4678])\n",
            "tensor([-2.7127]) tensor([7.3588])\n",
            "tensor([-2.6927]) tensor([7.2506])\n",
            "tensor([-2.6727]) tensor([7.1432])\n",
            "tensor([-2.6527]) tensor([7.0366])\n",
            "tensor([-2.6326]) tensor([6.9308])\n",
            "tensor([-2.6126]) tensor([6.8257])\n",
            "tensor([-2.5926]) tensor([6.7215])\n",
            "tensor([-2.5726]) tensor([6.6181])\n",
            "tensor([-2.5526]) tensor([6.5155])\n",
            "tensor([-2.5325]) tensor([6.4137])\n",
            "tensor([-2.5125]) tensor([6.3127])\n",
            "tensor([-2.4925]) tensor([6.2125])\n",
            "tensor([-2.4725]) tensor([6.1131])\n",
            "tensor([-2.4525]) tensor([6.0145])\n",
            "tensor([-2.4324]) tensor([5.9167])\n",
            "tensor([-2.4124]) tensor([5.8197])\n",
            "tensor([-2.3924]) tensor([5.7235])\n",
            "tensor([-2.3724]) tensor([5.6282])\n",
            "tensor([-2.3524]) tensor([5.5336])\n",
            "tensor([-2.3323]) tensor([5.4398])\n",
            "tensor([-2.3123]) tensor([5.3468])\n",
            "tensor([-2.2923]) tensor([5.2546])\n",
            "tensor([-2.2723]) tensor([5.1632])\n",
            "tensor([-2.2523]) tensor([5.0726])\n",
            "tensor([-2.2322]) tensor([4.9829])\n",
            "tensor([-2.2122]) tensor([4.8939])\n",
            "tensor([-2.1922]) tensor([4.8057])\n",
            "tensor([-2.1722]) tensor([4.7183])\n",
            "tensor([-2.1522]) tensor([4.6318])\n",
            "tensor([-2.1321]) tensor([4.5460])\n",
            "tensor([-2.1121]) tensor([4.4610])\n",
            "tensor([-2.0921]) tensor([4.3769])\n",
            "tensor([-2.0721]) tensor([4.2935])\n",
            "tensor([-2.0521]) tensor([4.2109])\n",
            "tensor([-2.0320]) tensor([4.1292])\n",
            "tensor([-2.0120]) tensor([4.0482])\n",
            "tensor([-1.9920]) tensor([3.9680])\n",
            "tensor([-1.9720]) tensor([3.8887])\n",
            "tensor([-1.9520]) tensor([3.8101])\n",
            "tensor([-1.9319]) tensor([3.7324])\n",
            "tensor([-1.9119]) tensor([3.6554])\n",
            "tensor([-1.8919]) tensor([3.5793])\n",
            "tensor([-1.8719]) tensor([3.5039])\n",
            "tensor([-1.8519]) tensor([3.4294])\n",
            "tensor([-1.8318]) tensor([3.3556])\n",
            "tensor([-1.8118]) tensor([3.2827])\n",
            "tensor([-1.7918]) tensor([3.2105])\n",
            "tensor([-1.7718]) tensor([3.1392])\n",
            "tensor([-1.7518]) tensor([3.0686])\n",
            "tensor([-1.7317]) tensor([2.9989])\n",
            "tensor([-1.7117]) tensor([2.9300])\n",
            "tensor([-1.6917]) tensor([2.8618])\n",
            "tensor([-1.6717]) tensor([2.7945])\n",
            "tensor([-1.6517]) tensor([2.7280])\n",
            "tensor([-1.6316]) tensor([2.6622])\n",
            "tensor([-1.6116]) tensor([2.5973])\n",
            "tensor([-1.5916]) tensor([2.5332])\n",
            "tensor([-1.5716]) tensor([2.4698])\n",
            "tensor([-1.5516]) tensor([2.4073])\n",
            "tensor([-1.5315]) tensor([2.3456])\n",
            "tensor([-1.5115]) tensor([2.2847])\n",
            "tensor([-1.4915]) tensor([2.2245])\n",
            "tensor([-1.4715]) tensor([2.1652])\n",
            "tensor([-1.4515]) tensor([2.1067])\n",
            "tensor([-1.4314]) tensor([2.0490])\n",
            "tensor([-1.4114]) tensor([1.9921])\n",
            "tensor([-1.3914]) tensor([1.9360])\n",
            "tensor([-1.3714]) tensor([1.8807])\n",
            "tensor([-1.3514]) tensor([1.8262])\n",
            "tensor([-1.3313]) tensor([1.7724])\n",
            "tensor([-1.3113]) tensor([1.7195])\n",
            "tensor([-1.2913]) tensor([1.6674])\n",
            "tensor([-1.2713]) tensor([1.6161])\n",
            "tensor([-1.2513]) tensor([1.5656])\n",
            "tensor([-1.2312]) tensor([1.5159])\n",
            "tensor([-1.2112]) tensor([1.4670])\n",
            "tensor([-1.1912]) tensor([1.4189])\n",
            "tensor([-1.1712]) tensor([1.3716])\n",
            "tensor([-1.1512]) tensor([1.3251])\n",
            "tensor([-1.1311]) tensor([1.2795])\n",
            "tensor([-1.1111]) tensor([1.2346])\n",
            "tensor([-1.0911]) tensor([1.1905])\n",
            "tensor([-1.0711]) tensor([1.1472])\n",
            "tensor([-1.0511]) tensor([1.1047])\n",
            "tensor([-1.0310]) tensor([1.0630])\n",
            "tensor([-1.0110]) tensor([1.0221])\n",
            "tensor([-0.9910]) tensor([0.9821])\n",
            "tensor([-0.9710]) tensor([0.9428])\n",
            "tensor([-0.9510]) tensor([0.9043])\n",
            "tensor([-0.9309]) tensor([0.8666])\n",
            "tensor([-0.9109]) tensor([0.8298])\n",
            "tensor([-0.8909]) tensor([0.7937])\n",
            "tensor([-0.8709]) tensor([0.7584])\n",
            "tensor([-0.8509]) tensor([0.7239])\n",
            "tensor([-0.8308]) tensor([0.6903])\n",
            "tensor([-0.8108]) tensor([0.6574])\n",
            "tensor([-0.7908]) tensor([0.6254])\n",
            "tensor([-0.7708]) tensor([0.5941])\n",
            "tensor([-0.7508]) tensor([0.5636])\n",
            "tensor([-0.7307]) tensor([0.5340])\n",
            "tensor([-0.7107]) tensor([0.5051])\n",
            "tensor([-0.6907]) tensor([0.4771])\n",
            "tensor([-0.6707]) tensor([0.4498])\n",
            "tensor([-0.6507]) tensor([0.4233])\n",
            "tensor([-0.6306]) tensor([0.3977])\n",
            "tensor([-0.6106]) tensor([0.3728])\n",
            "tensor([-0.5906]) tensor([0.3488])\n",
            "tensor([-0.5706]) tensor([0.3256])\n",
            "tensor([-0.5506]) tensor([0.3031])\n",
            "tensor([-0.5305]) tensor([0.2815])\n",
            "tensor([-0.5105]) tensor([0.2606])\n",
            "tensor([-0.4905]) tensor([0.2406])\n",
            "tensor([-0.4705]) tensor([0.2213])\n",
            "tensor([-0.4505]) tensor([0.2029])\n",
            "tensor([-0.4304]) tensor([0.1853])\n",
            "tensor([-0.4104]) tensor([0.1684])\n",
            "tensor([-0.3904]) tensor([0.1524])\n",
            "tensor([-0.3704]) tensor([0.1372])\n",
            "tensor([-0.3504]) tensor([0.1227])\n",
            "tensor([-0.3303]) tensor([0.1091])\n",
            "tensor([-0.3103]) tensor([0.0963])\n",
            "tensor([-0.2903]) tensor([0.0843])\n",
            "tensor([-0.2703]) tensor([0.0730])\n",
            "tensor([-0.2503]) tensor([0.0626])\n",
            "tensor([-0.2302]) tensor([0.0530])\n",
            "tensor([-0.2102]) tensor([0.0442])\n",
            "tensor([-0.1902]) tensor([0.0362])\n",
            "tensor([-0.1702]) tensor([0.0290])\n",
            "tensor([-0.1502]) tensor([0.0225])\n",
            "tensor([-0.1301]) tensor([0.0169])\n",
            "tensor([-0.1101]) tensor([0.0121])\n",
            "tensor([-0.0901]) tensor([0.0081])\n",
            "tensor([-0.0701]) tensor([0.0049])\n",
            "tensor([-0.0501]) tensor([0.0025])\n",
            "tensor([-0.0300]) tensor([0.0009])\n",
            "tensor([-0.0100]) tensor([0.0001])\n",
            "tensor([0.0100]) tensor([0.0001])\n",
            "tensor([0.0300]) tensor([0.0009])\n",
            "tensor([0.0501]) tensor([0.0025])\n",
            "tensor([0.0701]) tensor([0.0049])\n",
            "tensor([0.0901]) tensor([0.0081])\n",
            "tensor([0.1101]) tensor([0.0121])\n",
            "tensor([0.1301]) tensor([0.0169])\n",
            "tensor([0.1502]) tensor([0.0225])\n",
            "tensor([0.1702]) tensor([0.0290])\n",
            "tensor([0.1902]) tensor([0.0362])\n",
            "tensor([0.2102]) tensor([0.0442])\n",
            "tensor([0.2302]) tensor([0.0530])\n",
            "tensor([0.2503]) tensor([0.0626])\n",
            "tensor([0.2703]) tensor([0.0730])\n",
            "tensor([0.2903]) tensor([0.0843])\n",
            "tensor([0.3103]) tensor([0.0963])\n",
            "tensor([0.3303]) tensor([0.1091])\n",
            "tensor([0.3504]) tensor([0.1227])\n",
            "tensor([0.3704]) tensor([0.1372])\n",
            "tensor([0.3904]) tensor([0.1524])\n",
            "tensor([0.4104]) tensor([0.1684])\n",
            "tensor([0.4304]) tensor([0.1853])\n",
            "tensor([0.4505]) tensor([0.2029])\n",
            "tensor([0.4705]) tensor([0.2213])\n",
            "tensor([0.4905]) tensor([0.2406])\n",
            "tensor([0.5105]) tensor([0.2606])\n",
            "tensor([0.5305]) tensor([0.2815])\n",
            "tensor([0.5506]) tensor([0.3031])\n",
            "tensor([0.5706]) tensor([0.3256])\n",
            "tensor([0.5906]) tensor([0.3488])\n",
            "tensor([0.6106]) tensor([0.3728])\n",
            "tensor([0.6306]) tensor([0.3977])\n",
            "tensor([0.6507]) tensor([0.4233])\n",
            "tensor([0.6707]) tensor([0.4498])\n",
            "tensor([0.6907]) tensor([0.4771])\n",
            "tensor([0.7107]) tensor([0.5051])\n",
            "tensor([0.7307]) tensor([0.5340])\n",
            "tensor([0.7508]) tensor([0.5636])\n",
            "tensor([0.7708]) tensor([0.5941])\n",
            "tensor([0.7908]) tensor([0.6254])\n",
            "tensor([0.8108]) tensor([0.6574])\n",
            "tensor([0.8308]) tensor([0.6903])\n",
            "tensor([0.8509]) tensor([0.7239])\n",
            "tensor([0.8709]) tensor([0.7584])\n",
            "tensor([0.8909]) tensor([0.7937])\n",
            "tensor([0.9109]) tensor([0.8298])\n",
            "tensor([0.9309]) tensor([0.8666])\n",
            "tensor([0.9510]) tensor([0.9043])\n",
            "tensor([0.9710]) tensor([0.9428])\n",
            "tensor([0.9910]) tensor([0.9821])\n",
            "tensor([1.0110]) tensor([1.0221])\n",
            "tensor([1.0310]) tensor([1.0630])\n",
            "tensor([1.0511]) tensor([1.1047])\n",
            "tensor([1.0711]) tensor([1.1472])\n",
            "tensor([1.0911]) tensor([1.1905])\n",
            "tensor([1.1111]) tensor([1.2346])\n",
            "tensor([1.1311]) tensor([1.2795])\n",
            "tensor([1.1512]) tensor([1.3251])\n",
            "tensor([1.1712]) tensor([1.3716])\n",
            "tensor([1.1912]) tensor([1.4189])\n",
            "tensor([1.2112]) tensor([1.4670])\n",
            "tensor([1.2312]) tensor([1.5159])\n",
            "tensor([1.2513]) tensor([1.5656])\n",
            "tensor([1.2713]) tensor([1.6161])\n",
            "tensor([1.2913]) tensor([1.6674])\n",
            "tensor([1.3113]) tensor([1.7195])\n",
            "tensor([1.3313]) tensor([1.7724])\n",
            "tensor([1.3514]) tensor([1.8262])\n",
            "tensor([1.3714]) tensor([1.8807])\n",
            "tensor([1.3914]) tensor([1.9360])\n",
            "tensor([1.4114]) tensor([1.9921])\n",
            "tensor([1.4314]) tensor([2.0490])\n",
            "tensor([1.4515]) tensor([2.1067])\n",
            "tensor([1.4715]) tensor([2.1652])\n",
            "tensor([1.4915]) tensor([2.2245])\n",
            "tensor([1.5115]) tensor([2.2847])\n",
            "tensor([1.5315]) tensor([2.3456])\n",
            "tensor([1.5516]) tensor([2.4073])\n",
            "tensor([1.5716]) tensor([2.4698])\n",
            "tensor([1.5916]) tensor([2.5332])\n",
            "tensor([1.6116]) tensor([2.5973])\n",
            "tensor([1.6316]) tensor([2.6622])\n",
            "tensor([1.6517]) tensor([2.7280])\n",
            "tensor([1.6717]) tensor([2.7945])\n",
            "tensor([1.6917]) tensor([2.8618])\n",
            "tensor([1.7117]) tensor([2.9300])\n",
            "tensor([1.7317]) tensor([2.9989])\n",
            "tensor([1.7518]) tensor([3.0686])\n",
            "tensor([1.7718]) tensor([3.1392])\n",
            "tensor([1.7918]) tensor([3.2105])\n",
            "tensor([1.8118]) tensor([3.2827])\n",
            "tensor([1.8318]) tensor([3.3556])\n",
            "tensor([1.8519]) tensor([3.4294])\n",
            "tensor([1.8719]) tensor([3.5039])\n",
            "tensor([1.8919]) tensor([3.5793])\n",
            "tensor([1.9119]) tensor([3.6554])\n",
            "tensor([1.9319]) tensor([3.7324])\n",
            "tensor([1.9520]) tensor([3.8101])\n",
            "tensor([1.9720]) tensor([3.8887])\n",
            "tensor([1.9920]) tensor([3.9680])\n",
            "tensor([2.0120]) tensor([4.0482])\n",
            "tensor([2.0320]) tensor([4.1292])\n",
            "tensor([2.0521]) tensor([4.2109])\n",
            "tensor([2.0721]) tensor([4.2935])\n",
            "tensor([2.0921]) tensor([4.3769])\n",
            "tensor([2.1121]) tensor([4.4610])\n",
            "tensor([2.1321]) tensor([4.5460])\n",
            "tensor([2.1522]) tensor([4.6318])\n",
            "tensor([2.1722]) tensor([4.7183])\n",
            "tensor([2.1922]) tensor([4.8057])\n",
            "tensor([2.2122]) tensor([4.8939])\n",
            "tensor([2.2322]) tensor([4.9829])\n",
            "tensor([2.2523]) tensor([5.0726])\n",
            "tensor([2.2723]) tensor([5.1632])\n",
            "tensor([2.2923]) tensor([5.2546])\n",
            "tensor([2.3123]) tensor([5.3468])\n",
            "tensor([2.3323]) tensor([5.4398])\n",
            "tensor([2.3524]) tensor([5.5336])\n",
            "tensor([2.3724]) tensor([5.6282])\n",
            "tensor([2.3924]) tensor([5.7235])\n",
            "tensor([2.4124]) tensor([5.8197])\n",
            "tensor([2.4324]) tensor([5.9167])\n",
            "tensor([2.4525]) tensor([6.0145])\n",
            "tensor([2.4725]) tensor([6.1131])\n",
            "tensor([2.4925]) tensor([6.2125])\n",
            "tensor([2.5125]) tensor([6.3127])\n",
            "tensor([2.5325]) tensor([6.4137])\n",
            "tensor([2.5526]) tensor([6.5155])\n",
            "tensor([2.5726]) tensor([6.6181])\n",
            "tensor([2.5926]) tensor([6.7215])\n",
            "tensor([2.6126]) tensor([6.8257])\n",
            "tensor([2.6326]) tensor([6.9308])\n",
            "tensor([2.6527]) tensor([7.0366])\n",
            "tensor([2.6727]) tensor([7.1432])\n",
            "tensor([2.6927]) tensor([7.2506])\n",
            "tensor([2.7127]) tensor([7.3588])\n",
            "tensor([2.7327]) tensor([7.4678])\n",
            "tensor([2.7528]) tensor([7.5776])\n",
            "tensor([2.7728]) tensor([7.6883])\n",
            "tensor([2.7928]) tensor([7.7997])\n",
            "tensor([2.8128]) tensor([7.9119])\n",
            "tensor([2.8328]) tensor([8.0249])\n",
            "tensor([2.8529]) tensor([8.1388])\n",
            "tensor([2.8729]) tensor([8.2534])\n",
            "tensor([2.8929]) tensor([8.3688])\n",
            "tensor([2.9129]) tensor([8.4851])\n",
            "tensor([2.9329]) tensor([8.6021])\n",
            "tensor([2.9530]) tensor([8.7199])\n",
            "tensor([2.9730]) tensor([8.8386])\n",
            "tensor([2.9930]) tensor([8.9580])\n",
            "tensor([3.0130]) tensor([9.0782])\n",
            "tensor([3.0330]) tensor([9.1993])\n",
            "tensor([3.0531]) tensor([9.3211])\n",
            "tensor([3.0731]) tensor([9.4438])\n",
            "tensor([3.0931]) tensor([9.5672])\n",
            "tensor([3.1131]) tensor([9.6915])\n",
            "tensor([3.1331]) tensor([9.8165])\n",
            "tensor([3.1532]) tensor([9.9424])\n",
            "tensor([3.1732]) tensor([10.0690])\n",
            "tensor([3.1932]) tensor([10.1965])\n",
            "tensor([3.2132]) tensor([10.3247])\n",
            "tensor([3.2332]) tensor([10.4538])\n",
            "tensor([3.2533]) tensor([10.5837])\n",
            "tensor([3.2733]) tensor([10.7143])\n",
            "tensor([3.2933]) tensor([10.8458])\n",
            "tensor([3.3133]) tensor([10.9780])\n",
            "tensor([3.3333]) tensor([11.1111])\n",
            "tensor([3.3534]) tensor([11.2450])\n",
            "tensor([3.3734]) tensor([11.3796])\n",
            "tensor([3.3934]) tensor([11.5151])\n",
            "tensor([3.4134]) tensor([11.6514])\n",
            "tensor([3.4334]) tensor([11.7885])\n",
            "tensor([3.4535]) tensor([11.9263])\n",
            "tensor([3.4735]) tensor([12.0650])\n",
            "tensor([3.4935]) tensor([12.2045])\n",
            "tensor([3.5135]) tensor([12.3448])\n",
            "tensor([3.5335]) tensor([12.4859])\n",
            "tensor([3.5536]) tensor([12.6277])\n",
            "tensor([3.5736]) tensor([12.7704])\n",
            "tensor([3.5936]) tensor([12.9139])\n",
            "tensor([3.6136]) tensor([13.0582])\n",
            "tensor([3.6336]) tensor([13.2033])\n",
            "tensor([3.6537]) tensor([13.3492])\n",
            "tensor([3.6737]) tensor([13.4959])\n",
            "tensor([3.6937]) tensor([13.6434])\n",
            "tensor([3.7137]) tensor([13.7917])\n",
            "tensor([3.7337]) tensor([13.9408])\n",
            "tensor([3.7538]) tensor([14.0907])\n",
            "tensor([3.7738]) tensor([14.2414])\n",
            "tensor([3.7938]) tensor([14.3929])\n",
            "tensor([3.8138]) tensor([14.5452])\n",
            "tensor([3.8338]) tensor([14.6983])\n",
            "tensor([3.8539]) tensor([14.8522])\n",
            "tensor([3.8739]) tensor([15.0069])\n",
            "tensor([3.8939]) tensor([15.1624])\n",
            "tensor([3.9139]) tensor([15.3187])\n",
            "tensor([3.9339]) tensor([15.4758])\n",
            "tensor([3.9540]) tensor([15.6338])\n",
            "tensor([3.9740]) tensor([15.7925])\n",
            "tensor([3.9940]) tensor([15.9520])\n",
            "tensor([4.0140]) tensor([16.1123])\n",
            "tensor([4.0340]) tensor([16.2734])\n",
            "tensor([4.0541]) tensor([16.4354])\n",
            "tensor([4.0741]) tensor([16.5981])\n",
            "tensor([4.0941]) tensor([16.7616])\n",
            "tensor([4.1141]) tensor([16.9259])\n",
            "tensor([4.1341]) tensor([17.0911])\n",
            "tensor([4.1542]) tensor([17.2570])\n",
            "tensor([4.1742]) tensor([17.4237])\n",
            "tensor([4.1942]) tensor([17.5913])\n",
            "tensor([4.2142]) tensor([17.7596])\n",
            "tensor([4.2342]) tensor([17.9287])\n",
            "tensor([4.2543]) tensor([18.0987])\n",
            "tensor([4.2743]) tensor([18.2694])\n",
            "tensor([4.2943]) tensor([18.4410])\n",
            "tensor([4.3143]) tensor([18.6133])\n",
            "tensor([4.3343]) tensor([18.7865])\n",
            "tensor([4.3544]) tensor([18.9604])\n",
            "tensor([4.3744]) tensor([19.1352])\n",
            "tensor([4.3944]) tensor([19.3107])\n",
            "tensor([4.4144]) tensor([19.4871])\n",
            "tensor([4.4344]) tensor([19.6642])\n",
            "tensor([4.4545]) tensor([19.8422])\n",
            "tensor([4.4745]) tensor([20.0209])\n",
            "tensor([4.4945]) tensor([20.2005])\n",
            "tensor([4.5145]) tensor([20.3808])\n",
            "tensor([4.5345]) tensor([20.5620])\n",
            "tensor([4.5546]) tensor([20.7440])\n",
            "tensor([4.5746]) tensor([20.9267])\n",
            "tensor([4.5946]) tensor([21.1103])\n",
            "tensor([4.6146]) tensor([21.2947])\n",
            "tensor([4.6346]) tensor([21.4798])\n",
            "tensor([4.6547]) tensor([21.6658])\n",
            "tensor([4.6747]) tensor([21.8526])\n",
            "tensor([4.6947]) tensor([22.0402])\n",
            "tensor([4.7147]) tensor([22.2285])\n",
            "tensor([4.7347]) tensor([22.4177])\n",
            "tensor([4.7548]) tensor([22.6077])\n",
            "tensor([4.7748]) tensor([22.7985])\n",
            "tensor([4.7948]) tensor([22.9901])\n",
            "tensor([4.8148]) tensor([23.1824])\n",
            "tensor([4.8348]) tensor([23.3756])\n",
            "tensor([4.8549]) tensor([23.5696])\n",
            "tensor([4.8749]) tensor([23.7644])\n",
            "tensor([4.8949]) tensor([23.9600])\n",
            "tensor([4.9149]) tensor([24.1564])\n",
            "tensor([4.9349]) tensor([24.3536])\n",
            "tensor([4.9550]) tensor([24.5516])\n",
            "tensor([4.9750]) tensor([24.7504])\n",
            "tensor([4.9950]) tensor([24.9500])\n",
            "tensor([5.0150]) tensor([25.1504])\n",
            "tensor([5.0350]) tensor([25.3516])\n",
            "tensor([5.0551]) tensor([25.5536])\n",
            "tensor([5.0751]) tensor([25.7564])\n",
            "tensor([5.0951]) tensor([25.9600])\n",
            "tensor([5.1151]) tensor([26.1644])\n",
            "tensor([5.1351]) tensor([26.3696])\n",
            "tensor([5.1552]) tensor([26.5756])\n",
            "tensor([5.1752]) tensor([26.7824])\n",
            "tensor([5.1952]) tensor([26.9901])\n",
            "tensor([5.2152]) tensor([27.1985])\n",
            "tensor([5.2352]) tensor([27.4077])\n",
            "tensor([5.2553]) tensor([27.6177])\n",
            "tensor([5.2753]) tensor([27.8285])\n",
            "tensor([5.2953]) tensor([28.0402])\n",
            "tensor([5.3153]) tensor([28.2526])\n",
            "tensor([5.3353]) tensor([28.4658])\n",
            "tensor([5.3554]) tensor([28.6798])\n",
            "tensor([5.3754]) tensor([28.8947])\n",
            "tensor([5.3954]) tensor([29.1103])\n",
            "tensor([5.4154]) tensor([29.3267])\n",
            "tensor([5.4354]) tensor([29.5440])\n",
            "tensor([5.4555]) tensor([29.7620])\n",
            "tensor([5.4755]) tensor([29.9808])\n",
            "tensor([5.4955]) tensor([30.2005])\n",
            "tensor([5.5155]) tensor([30.4209])\n",
            "tensor([5.5355]) tensor([30.6422])\n",
            "tensor([5.5556]) tensor([30.8642])\n",
            "tensor([5.5756]) tensor([31.0870])\n",
            "tensor([5.5956]) tensor([31.3107])\n",
            "tensor([5.6156]) tensor([31.5351])\n",
            "tensor([5.6356]) tensor([31.7604])\n",
            "tensor([5.6557]) tensor([31.9864])\n",
            "tensor([5.6757]) tensor([32.2133])\n",
            "tensor([5.6957]) tensor([32.4410])\n",
            "tensor([5.7157]) tensor([32.6694])\n",
            "tensor([5.7357]) tensor([32.8987])\n",
            "tensor([5.7558]) tensor([33.1287])\n",
            "tensor([5.7758]) tensor([33.3596])\n",
            "tensor([5.7958]) tensor([33.5913])\n",
            "tensor([5.8158]) tensor([33.8237])\n",
            "tensor([5.8358]) tensor([34.0570])\n",
            "tensor([5.8559]) tensor([34.2910])\n",
            "tensor([5.8759]) tensor([34.5259])\n",
            "tensor([5.8959]) tensor([34.7616])\n",
            "tensor([5.9159]) tensor([34.9981])\n",
            "tensor([5.9359]) tensor([35.2353])\n",
            "tensor([5.9560]) tensor([35.4734])\n",
            "tensor([5.9760]) tensor([35.7123])\n",
            "tensor([5.9960]) tensor([35.9520])\n",
            "tensor([6.0160]) tensor([36.1924])\n",
            "tensor([6.0360]) tensor([36.4337])\n",
            "tensor([6.0561]) tensor([36.6758])\n",
            "tensor([6.0761]) tensor([36.9187])\n",
            "tensor([6.0961]) tensor([37.1624])\n",
            "tensor([6.1161]) tensor([37.4069])\n",
            "tensor([6.1361]) tensor([37.6522])\n",
            "tensor([6.1562]) tensor([37.8983])\n",
            "tensor([6.1762]) tensor([38.1452])\n",
            "tensor([6.1962]) tensor([38.3929])\n",
            "tensor([6.2162]) tensor([38.6413])\n",
            "tensor([6.2362]) tensor([38.8906])\n",
            "tensor([6.2563]) tensor([39.1407])\n",
            "tensor([6.2763]) tensor([39.3916])\n",
            "tensor([6.2963]) tensor([39.6434])\n",
            "tensor([6.3163]) tensor([39.8959])\n",
            "tensor([6.3363]) tensor([40.1492])\n",
            "tensor([6.3564]) tensor([40.4033])\n",
            "tensor([6.3764]) tensor([40.6582])\n",
            "tensor([6.3964]) tensor([40.9139])\n",
            "tensor([6.4164]) tensor([41.1704])\n",
            "tensor([6.4364]) tensor([41.4277])\n",
            "tensor([6.4565]) tensor([41.6858])\n",
            "tensor([6.4765]) tensor([41.9448])\n",
            "tensor([6.4965]) tensor([42.2045])\n",
            "tensor([6.5165]) tensor([42.4650])\n",
            "tensor([6.5365]) tensor([42.7263])\n",
            "tensor([6.5566]) tensor([42.9884])\n",
            "tensor([6.5766]) tensor([43.2514])\n",
            "tensor([6.5966]) tensor([43.5151])\n",
            "tensor([6.6166]) tensor([43.7796])\n",
            "tensor([6.6366]) tensor([44.0449])\n",
            "tensor([6.6567]) tensor([44.3111])\n",
            "tensor([6.6767]) tensor([44.5780])\n",
            "tensor([6.6967]) tensor([44.8457])\n",
            "tensor([6.7167]) tensor([45.1143])\n",
            "tensor([6.7367]) tensor([45.3836])\n",
            "tensor([6.7568]) tensor([45.6538])\n",
            "tensor([6.7768]) tensor([45.9247])\n",
            "tensor([6.7968]) tensor([46.1964])\n",
            "tensor([6.8168]) tensor([46.4690])\n",
            "tensor([6.8368]) tensor([46.7423])\n",
            "tensor([6.8569]) tensor([47.0165])\n",
            "tensor([6.8769]) tensor([47.2914])\n",
            "tensor([6.8969]) tensor([47.5672])\n",
            "tensor([6.9169]) tensor([47.8437])\n",
            "tensor([6.9369]) tensor([48.1211])\n",
            "tensor([6.9570]) tensor([48.3993])\n",
            "tensor([6.9770]) tensor([48.6782])\n",
            "tensor([6.9970]) tensor([48.9580])\n",
            "tensor([7.0170]) tensor([49.2385])\n",
            "tensor([7.0370]) tensor([49.5199])\n",
            "tensor([7.0571]) tensor([49.8021])\n",
            "tensor([7.0771]) tensor([50.0850])\n",
            "tensor([7.0971]) tensor([50.3688])\n",
            "tensor([7.1171]) tensor([50.6534])\n",
            "tensor([7.1371]) tensor([50.9387])\n",
            "tensor([7.1572]) tensor([51.2249])\n",
            "tensor([7.1772]) tensor([51.5119])\n",
            "tensor([7.1972]) tensor([51.7997])\n",
            "tensor([7.2172]) tensor([52.0882])\n",
            "tensor([7.2372]) tensor([52.3776])\n",
            "tensor([7.2573]) tensor([52.6678])\n",
            "tensor([7.2773]) tensor([52.9588])\n",
            "tensor([7.2973]) tensor([53.2505])\n",
            "tensor([7.3173]) tensor([53.5431])\n",
            "tensor([7.3373]) tensor([53.8365])\n",
            "tensor([7.3574]) tensor([54.1307])\n",
            "tensor([7.3774]) tensor([54.4257])\n",
            "tensor([7.3974]) tensor([54.7215])\n",
            "tensor([7.4174]) tensor([55.0181])\n",
            "tensor([7.4374]) tensor([55.3155])\n",
            "tensor([7.4575]) tensor([55.6137])\n",
            "tensor([7.4775]) tensor([55.9127])\n",
            "tensor([7.4975]) tensor([56.2125])\n",
            "tensor([7.5175]) tensor([56.5131])\n",
            "tensor([7.5375]) tensor([56.8145])\n",
            "tensor([7.5576]) tensor([57.1167])\n",
            "tensor([7.5776]) tensor([57.4197])\n",
            "tensor([7.5976]) tensor([57.7235])\n",
            "tensor([7.6176]) tensor([58.0281])\n",
            "tensor([7.6376]) tensor([58.3335])\n",
            "tensor([7.6577]) tensor([58.6397])\n",
            "tensor([7.6777]) tensor([58.9467])\n",
            "tensor([7.6977]) tensor([59.2545])\n",
            "tensor([7.7177]) tensor([59.5632])\n",
            "tensor([7.7377]) tensor([59.8726])\n",
            "tensor([7.7578]) tensor([60.1828])\n",
            "tensor([7.7778]) tensor([60.4938])\n",
            "tensor([7.7978]) tensor([60.8056])\n",
            "tensor([7.8178]) tensor([61.1183])\n",
            "tensor([7.8378]) tensor([61.4317])\n",
            "tensor([7.8579]) tensor([61.7459])\n",
            "tensor([7.8779]) tensor([62.0610])\n",
            "tensor([7.8979]) tensor([62.3768])\n",
            "tensor([7.9179]) tensor([62.6934])\n",
            "tensor([7.9379]) tensor([63.0109])\n",
            "tensor([7.9580]) tensor([63.3291])\n",
            "tensor([7.9780]) tensor([63.6481])\n",
            "tensor([7.9980]) tensor([63.9680])\n",
            "tensor([8.0180]) tensor([64.2886])\n",
            "tensor([8.0380]) tensor([64.6101])\n",
            "tensor([8.0581]) tensor([64.9323])\n",
            "tensor([8.0781]) tensor([65.2553])\n",
            "tensor([8.0981]) tensor([65.5792])\n",
            "tensor([8.1181]) tensor([65.9038])\n",
            "tensor([8.1381]) tensor([66.2293])\n",
            "tensor([8.1582]) tensor([66.5555])\n",
            "tensor([8.1782]) tensor([66.8826])\n",
            "tensor([8.1982]) tensor([67.2105])\n",
            "tensor([8.2182]) tensor([67.5391])\n",
            "tensor([8.2382]) tensor([67.8686])\n",
            "tensor([8.2583]) tensor([68.1988])\n",
            "tensor([8.2783]) tensor([68.5299])\n",
            "tensor([8.2983]) tensor([68.8618])\n",
            "tensor([8.3183]) tensor([69.1944])\n",
            "tensor([8.3383]) tensor([69.5279])\n",
            "tensor([8.3584]) tensor([69.8622])\n",
            "tensor([8.3784]) tensor([70.1972])\n",
            "tensor([8.3984]) tensor([70.5331])\n",
            "tensor([8.4184]) tensor([70.8698])\n",
            "tensor([8.4384]) tensor([71.2072])\n",
            "tensor([8.4585]) tensor([71.5455])\n",
            "tensor([8.4785]) tensor([71.8846])\n",
            "tensor([8.4985]) tensor([72.2245])\n",
            "tensor([8.5185]) tensor([72.5652])\n",
            "tensor([8.5385]) tensor([72.9066])\n",
            "tensor([8.5586]) tensor([73.2489])\n",
            "tensor([8.5786]) tensor([73.5920])\n",
            "tensor([8.5986]) tensor([73.9359])\n",
            "tensor([8.6186]) tensor([74.2806])\n",
            "tensor([8.6386]) tensor([74.6261])\n",
            "tensor([8.6587]) tensor([74.9724])\n",
            "tensor([8.6787]) tensor([75.3195])\n",
            "tensor([8.6987]) tensor([75.6674])\n",
            "tensor([8.7187]) tensor([76.0161])\n",
            "tensor([8.7387]) tensor([76.3656])\n",
            "tensor([8.7588]) tensor([76.7159])\n",
            "tensor([8.7788]) tensor([77.0670])\n",
            "tensor([8.7988]) tensor([77.4189])\n",
            "tensor([8.8188]) tensor([77.7716])\n",
            "tensor([8.8388]) tensor([78.1251])\n",
            "tensor([8.8589]) tensor([78.4794])\n",
            "tensor([8.8789]) tensor([78.8345])\n",
            "tensor([8.8989]) tensor([79.1904])\n",
            "tensor([8.9189]) tensor([79.5471])\n",
            "tensor([8.9389]) tensor([79.9046])\n",
            "tensor([8.9590]) tensor([80.2629])\n",
            "tensor([8.9790]) tensor([80.6221])\n",
            "tensor([8.9990]) tensor([80.9820])\n",
            "tensor([9.0190]) tensor([81.3427])\n",
            "tensor([9.0390]) tensor([81.7042])\n",
            "tensor([9.0591]) tensor([82.0666])\n",
            "tensor([9.0791]) tensor([82.4297])\n",
            "tensor([9.0991]) tensor([82.7936])\n",
            "tensor([9.1191]) tensor([83.1583])\n",
            "tensor([9.1391]) tensor([83.5239])\n",
            "tensor([9.1592]) tensor([83.8902])\n",
            "tensor([9.1792]) tensor([84.2573])\n",
            "tensor([9.1992]) tensor([84.6253])\n",
            "tensor([9.2192]) tensor([84.9940])\n",
            "tensor([9.2392]) tensor([85.3635])\n",
            "tensor([9.2593]) tensor([85.7339])\n",
            "tensor([9.2793]) tensor([86.1050])\n",
            "tensor([9.2993]) tensor([86.4770])\n",
            "tensor([9.3193]) tensor([86.8497])\n",
            "tensor([9.3393]) tensor([87.2233])\n",
            "tensor([9.3594]) tensor([87.5976])\n",
            "tensor([9.3794]) tensor([87.9728])\n",
            "tensor([9.3994]) tensor([88.3487])\n",
            "tensor([9.4194]) tensor([88.7255])\n",
            "tensor([9.4394]) tensor([89.1030])\n",
            "tensor([9.4595]) tensor([89.4814])\n",
            "tensor([9.4795]) tensor([89.8605])\n",
            "tensor([9.4995]) tensor([90.2405])\n",
            "tensor([9.5195]) tensor([90.6213])\n",
            "tensor([9.5395]) tensor([91.0028])\n",
            "tensor([9.5596]) tensor([91.3852])\n",
            "tensor([9.5796]) tensor([91.7683])\n",
            "tensor([9.5996]) tensor([92.1523])\n",
            "tensor([9.6196]) tensor([92.5371])\n",
            "tensor([9.6396]) tensor([92.9227])\n",
            "tensor([9.6597]) tensor([93.3090])\n",
            "tensor([9.6797]) tensor([93.6962])\n",
            "tensor([9.6997]) tensor([94.0842])\n",
            "tensor([9.7197]) tensor([94.4730])\n",
            "tensor([9.7397]) tensor([94.8625])\n",
            "tensor([9.7598]) tensor([95.2529])\n",
            "tensor([9.7798]) tensor([95.6441])\n",
            "tensor([9.7998]) tensor([96.0361])\n",
            "tensor([9.8198]) tensor([96.4289])\n",
            "tensor([9.8398]) tensor([96.8224])\n",
            "tensor([9.8599]) tensor([97.2168])\n",
            "tensor([9.8799]) tensor([97.6120])\n",
            "tensor([9.8999]) tensor([98.0080])\n",
            "tensor([9.9199]) tensor([98.4048])\n",
            "tensor([9.9399]) tensor([98.8024])\n",
            "tensor([9.9600]) tensor([99.2008])\n",
            "tensor([9.9800]) tensor([99.6000])\n",
            "tensor([10.]) tensor([100.])\n"
          ]
        }
      ],
      "source": [
        "from matplotlib import pyplot as plt\n",
        "\n",
        "# Create an instance of QuadraticDataset\n",
        "quadratic_dataset = QuadraticDataset()\n",
        "\n",
        "# Iterates through dataset and prints x, y values\n",
        "for x, y in quadratic_dataset:\n",
        "    print(x, y)"
      ]
    },
    {
      "cell_type": "markdown",
      "metadata": {
        "id": "ChLE_WCWqnwo"
      },
      "source": [
        "Additionally, we can visualize our dataset to ensure it behaves the way we expect it to."
      ]
    },
    {
      "cell_type": "code",
      "execution_count": 112,
      "metadata": {
        "colab": {
          "base_uri": "https://localhost:8080/",
          "height": 473
        },
        "id": "vdMZ4cvUqnwo",
        "outputId": "c3a98527-19f0-4b19-b2cb-e356c232df08"
      },
      "outputs": [
        {
          "output_type": "display_data",
          "data": {
            "text/plain": [
              "<Figure size 640x480 with 1 Axes>"
            ],
            "image/png": "[encoded data removed]"
          },
          "metadata": {}
        }
      ],
      "source": [
        "# Visualize the Dataset\n",
        "plt.scatter(quadratic_dataset.x, quadratic_dataset.y)\n",
        "plt.title('Quadratic Dataset')\n",
        "plt.show()"
      ]
    },
    {
      "cell_type": "markdown",
      "metadata": {
        "id": "bo05hSy6qnwo"
      },
      "source": [
        "We want to instantiate a DataLoader object. A DataLoader facilitates efficient data handlint by *batching*, *shuffling* and *parallel loading*."
      ]
    },
    {
      "cell_type": "code",
      "execution_count": 115,
      "metadata": {
        "id": "5tkVsZu6qnwo"
      },
      "outputs": [],
      "source": [
        "from torch.utils.data import DataLoader\n",
        "\n",
        "BATCH_SIZE = 4\n",
        "\n",
        "dataloader = DataLoader(quadratic_dataset, batch_size=BATCH_SIZE, shuffle=True)"
      ]
    },
    {
      "cell_type": "code",
      "source": [
        "for xb, yb in dataloader:\n",
        "  print(xb, yb)"
      ],
      "metadata": {
        "colab": {
          "base_uri": "https://localhost:8080/"
        },
        "id": "_Vx9DLr_sQk6",
        "outputId": "88abe8e5-f634-41b8-c618-58290d46143f"
      },
      "execution_count": 54,
      "outputs": [
        {
          "output_type": "stream",
          "name": "stdout",
          "text": [
            "tensor([[-8.7879],\n",
            "        [-8.9899],\n",
            "        [-5.1515],\n",
            "        [ 9.3939]]) tensor([[77.2268],\n",
            "        [80.8183],\n",
            "        [26.5381],\n",
            "        [88.2461]])\n",
            "tensor([[ 7.5758],\n",
            "        [-0.7071],\n",
            "        [ 9.7980],\n",
            "        [-4.7475]]) tensor([[57.3921],\n",
            "        [ 0.4999],\n",
            "        [96.0004],\n",
            "        [22.5385]])\n",
            "tensor([[ 4.1414],\n",
            "        [-3.1313],\n",
            "        [ 9.5960],\n",
            "        [ 7.7778]]) tensor([[17.1513],\n",
            "        [ 9.8051],\n",
            "        [92.0824],\n",
            "        [60.4938]])\n",
            "tensor([[-1.7172],\n",
            "        [ 8.5859],\n",
            "        [ 4.7475],\n",
            "        [-6.5657]]) tensor([[ 2.9487],\n",
            "        [73.7170],\n",
            "        [22.5385],\n",
            "        [43.1078]])\n",
            "tensor([[5.5556],\n",
            "        [3.3333],\n",
            "        [6.7677],\n",
            "        [3.1313]]) tensor([[30.8642],\n",
            "        [11.1111],\n",
            "        [45.8014],\n",
            "        [ 9.8051]])\n",
            "tensor([[ 3.7374],\n",
            "        [-1.5152],\n",
            "        [ 2.3232],\n",
            "        [-1.9192]]) tensor([[13.9680],\n",
            "        [ 2.2957],\n",
            "        [ 5.3974],\n",
            "        [ 3.6833]])\n",
            "tensor([[ 1.3131],\n",
            "        [ 9.1919],\n",
            "        [-7.3737],\n",
            "        [ 1.9192]]) tensor([[ 1.7243],\n",
            "        [84.4914],\n",
            "        [54.3720],\n",
            "        [ 3.6833]])\n",
            "tensor([[-0.5051],\n",
            "        [ 8.3838],\n",
            "        [-0.9091],\n",
            "        [ 8.9899]]) tensor([[ 0.2551],\n",
            "        [70.2887],\n",
            "        [ 0.8264],\n",
            "        [80.8183]])\n",
            "tensor([[-9.1919],\n",
            "        [-5.7576],\n",
            "        [ 1.7172],\n",
            "        [ 4.5455]]) tensor([[84.4914],\n",
            "        [33.1497],\n",
            "        [ 2.9487],\n",
            "        [20.6612]])\n",
            "tensor([[ 1.1111],\n",
            "        [ 5.3535],\n",
            "        [-8.3838],\n",
            "        [-2.5253]]) tensor([[ 1.2346],\n",
            "        [28.6603],\n",
            "        [70.2887],\n",
            "        [ 6.3769]])\n",
            "tensor([[ 1.5152],\n",
            "        [-4.1414],\n",
            "        [ 0.7071],\n",
            "        [-2.3232]]) tensor([[ 2.2957],\n",
            "        [17.1513],\n",
            "        [ 0.4999],\n",
            "        [ 5.3974]])\n",
            "tensor([[-3.7374],\n",
            "        [-7.9798],\n",
            "        [-6.3636],\n",
            "        [ 3.9394]]) tensor([[13.9680],\n",
            "        [63.6772],\n",
            "        [40.4959],\n",
            "        [15.5188]])\n",
            "tensor([[-5.3535],\n",
            "        [ 6.3636],\n",
            "        [-4.5455],\n",
            "        [-2.9293]]) tensor([[28.6603],\n",
            "        [40.4959],\n",
            "        [20.6612],\n",
            "        [ 8.5808]])\n",
            "tensor([[ 8.7879],\n",
            "        [ 0.9091],\n",
            "        [-8.5859],\n",
            "        [ 6.9697]]) tensor([[77.2268],\n",
            "        [ 0.8264],\n",
            "        [73.7170],\n",
            "        [48.5767]])\n",
            "tensor([[-9.7980],\n",
            "        [-6.7677],\n",
            "        [ 2.5253],\n",
            "        [-2.1212]]) tensor([[96.0004],\n",
            "        [45.8014],\n",
            "        [ 6.3769],\n",
            "        [ 4.4995]])\n",
            "tensor([[-3.9394],\n",
            "        [-5.5556],\n",
            "        [-3.5354],\n",
            "        [ 5.1515]]) tensor([[15.5188],\n",
            "        [30.8642],\n",
            "        [12.4987],\n",
            "        [26.5381]])\n",
            "tensor([[ 5.9596],\n",
            "        [ 7.1717],\n",
            "        [-8.1818],\n",
            "        [-6.9697]]) tensor([[35.5168],\n",
            "        [51.4335],\n",
            "        [66.9421],\n",
            "        [48.5767]])\n",
            "tensor([[ 5.7576],\n",
            "        [-2.7273],\n",
            "        [ 8.1818],\n",
            "        [-5.9596]]) tensor([[33.1497],\n",
            "        [ 7.4380],\n",
            "        [66.9421],\n",
            "        [35.5168]])\n",
            "tensor([[-1.3131],\n",
            "        [ 0.3030],\n",
            "        [-9.5960],\n",
            "        [-0.3030]]) tensor([[1.7243e+00],\n",
            "        [9.1827e-02],\n",
            "        [9.2082e+01],\n",
            "        [9.1827e-02]])\n",
            "tensor([[ 7.3737],\n",
            "        [-3.3333],\n",
            "        [ 2.7273],\n",
            "        [-7.7778]]) tensor([[54.3720],\n",
            "        [11.1111],\n",
            "        [ 7.4380],\n",
            "        [60.4938]])\n",
            "tensor([[-7.5758],\n",
            "        [ 6.1616],\n",
            "        [ 7.9798],\n",
            "        [-4.3434]]) tensor([[57.3921],\n",
            "        [37.9655],\n",
            "        [63.6772],\n",
            "        [18.8654]])\n",
            "tensor([[  0.1010],\n",
            "        [-10.0000],\n",
            "        [  6.5657],\n",
            "        [ -6.1616]]) tensor([[1.0203e-02],\n",
            "        [1.0000e+02],\n",
            "        [4.3108e+01],\n",
            "        [3.7966e+01]])\n",
            "tensor([[ 2.9293],\n",
            "        [ 4.3434],\n",
            "        [-1.1111],\n",
            "        [ 2.1212]]) tensor([[ 8.5808],\n",
            "        [18.8654],\n",
            "        [ 1.2346],\n",
            "        [ 4.4995]])\n",
            "tensor([[ 0.5051],\n",
            "        [ 3.5354],\n",
            "        [ 4.9495],\n",
            "        [10.0000]]) tensor([[  0.2551],\n",
            "        [ 12.4987],\n",
            "        [ 24.4975],\n",
            "        [100.0000]])\n",
            "tensor([[-7.1717],\n",
            "        [-9.3939],\n",
            "        [-4.9495],\n",
            "        [-0.1010]]) tensor([[5.1434e+01],\n",
            "        [8.8246e+01],\n",
            "        [2.4497e+01],\n",
            "        [1.0203e-02]])\n"
          ]
        }
      ]
    },
    {
      "cell_type": "markdown",
      "metadata": {
        "id": "H7DsATwcqnwo"
      },
      "source": [
        "# 3. Models"
      ]
    },
    {
      "cell_type": "markdown",
      "metadata": {
        "id": "DRkBUIYXqnwp"
      },
      "source": [
        "Now for the fun part! We have a dataset of corresponding inputs and outputs. We now define a model that we can run on an input to produce an output."
      ]
    },
    {
      "cell_type": "markdown",
      "metadata": {
        "id": "Idy-IJugqnwp"
      },
      "source": [
        "In PyTorch, models are defined using `nn.Module`."
      ]
    },
    {
      "cell_type": "code",
      "execution_count": 116,
      "metadata": {
        "id": "POY4B2opqnwp"
      },
      "outputs": [],
      "source": [
        "from torch import nn\n",
        "\n",
        "\n",
        "class MyModel(nn.Module):\n",
        "    def __init__(self):\n",
        "        super(MyModel, self).__init__()\n",
        "        self.fc1 = nn.Linear(1, 100)\n",
        "        self.act1 = nn.ReLU()\n",
        "        self.fc2 = nn.Linear(100, 1)\n",
        "        self.act2 = nn.ReLU()\n",
        "\n",
        "    def forward(self, x):\n",
        "        out = self.fc1(x)\n",
        "        out = self.act1(out)\n",
        "        out = self.fc2(out)\n",
        "        out = self.act2(out)\n",
        "        return out"
      ]
    },
    {
      "cell_type": "code",
      "execution_count": 117,
      "metadata": {
        "id": "bjmpeDvPqnwp"
      },
      "outputs": [],
      "source": [
        "model = MyModel()"
      ]
    },
    {
      "cell_type": "markdown",
      "metadata": {
        "id": "e0dsxayrqnwp"
      },
      "source": [
        "We can move models onto the GPU using `.to(device=\"cuda\")` just like with tensors."
      ]
    },
    {
      "cell_type": "code",
      "execution_count": 118,
      "metadata": {
        "id": "mMcVYmcJqnwq"
      },
      "outputs": [],
      "source": [
        "model = model.to(device=\"cuda\")"
      ]
    },
    {
      "cell_type": "markdown",
      "source": [
        "Let's test our model."
      ],
      "metadata": {
        "id": "FkV7OF0msqI5"
      }
    },
    {
      "cell_type": "code",
      "source": [
        "x = torch.tensor([5.]).to(device=\"cuda\")\n",
        "model(x)"
      ],
      "metadata": {
        "colab": {
          "base_uri": "https://localhost:8080/"
        },
        "id": "4ZSfNQEXsg-K",
        "outputId": "91ab9ed3-68d5-4e3b-8c7a-976bef618b8c"
      },
      "execution_count": 119,
      "outputs": [
        {
          "output_type": "execute_result",
          "data": {
            "text/plain": [
              "tensor([0.8511], device='cuda:0', grad_fn=<ReluBackward0>)"
            ]
          },
          "metadata": {},
          "execution_count": 119
        }
      ]
    },
    {
      "cell_type": "markdown",
      "source": [
        "It gives us garbage, because we need to train it. Let's train it."
      ],
      "metadata": {
        "id": "0YCh724CtOv2"
      }
    },
    {
      "cell_type": "markdown",
      "metadata": {
        "id": "5TPDKZX6qnwq"
      },
      "source": [
        "# 4. Training Loop"
      ]
    },
    {
      "cell_type": "markdown",
      "metadata": {
        "id": "TjsnDYQ2qnwq"
      },
      "source": [
        "To train the model, we need a few things:\n",
        "- A loss function, which tells us how well is the model is performing\n",
        "- An optimizer, which adjusts the model parameters to minimize the loss"
      ]
    },
    {
      "cell_type": "code",
      "execution_count": 120,
      "metadata": {
        "id": "uXauk-moqnwq"
      },
      "outputs": [],
      "source": [
        "LEARNING_RATE = 1e-3\n",
        "NUM_EPOCHS = 100\n",
        "\n",
        "loss_fn = nn.MSELoss()\n",
        "optimizer = torch.optim.Adam(model.parameters(), lr=LEARNING_RATE) # Typically use Adam in practice"
      ]
    },
    {
      "cell_type": "code",
      "execution_count": 122,
      "metadata": {
        "colab": {
          "base_uri": "https://localhost:8080/"
        },
        "id": "rBfVh5CBqnwr",
        "outputId": "504dd98e-41a6-41e7-d832-1c2eb7fc2545"
      },
      "outputs": [
        {
          "output_type": "stream",
          "name": "stderr",
          "text": [
            "100%|██████████| 100/100 [00:35<00:00,  2.85it/s]\n"
          ]
        }
      ],
      "source": [
        "from tqdm import tqdm\n",
        "\n",
        "\n",
        "epoch_losses = []\n",
        "\n",
        "for epoch in tqdm(range(NUM_EPOCHS)):\n",
        "    epoch_loss = 0\n",
        "\n",
        "    for Xb, yb in dataloader:\n",
        "        y_pred = model(Xb.to(device=\"cuda\"))\n",
        "        loss = loss_fn(y_pred, yb.to(device=\"cuda\"))\n",
        "        loss.backward()\n",
        "        optimizer.step()\n",
        "        optimizer.zero_grad()\n",
        "\n",
        "        epoch_loss += loss.item()\n",
        "\n",
        "    epoch_losses.append(epoch_loss / len(dataloader))"
      ]
    },
    {
      "cell_type": "markdown",
      "metadata": {
        "id": "SClCg4YJqnwr"
      },
      "source": [
        "Let's view our losses:"
      ]
    },
    {
      "cell_type": "code",
      "execution_count": 123,
      "metadata": {
        "colab": {
          "base_uri": "https://localhost:8080/",
          "height": 486
        },
        "id": "_AhRJPyeqnws",
        "outputId": "aac52d0c-8a59-4b1a-a862-3988e5077ef4"
      },
      "outputs": [
        {
          "output_type": "execute_result",
          "data": {
            "text/plain": [
              "Text(0, 0.5, 'Loss')"
            ]
          },
          "metadata": {},
          "execution_count": 123
        },
        {
          "output_type": "display_data",
          "data": {
            "text/plain": [
              "<Figure size 640x480 with 1 Axes>"
            ],
            "image/png": "[encoded data removed]"
          },
          "metadata": {}
        }
      ],
      "source": [
        "import numpy as np\n",
        "\n",
        "plt.plot(np.arange(NUM_EPOCHS), epoch_losses)\n",
        "plt.xlabel(\"Epoch\")\n",
        "plt.ylabel(\"Loss\")"
      ]
    },
    {
      "cell_type": "markdown",
      "metadata": {
        "id": "e8tzH18Nqnws"
      },
      "source": [
        "Let's test on a sample input."
      ]
    },
    {
      "cell_type": "code",
      "execution_count": 124,
      "metadata": {
        "colab": {
          "base_uri": "https://localhost:8080/"
        },
        "id": "uHu9s6O6qnws",
        "outputId": "5f98716b-49a5-4621-cfa3-7788f0e8bcfd"
      },
      "outputs": [
        {
          "name": "stdout",
          "output_type": "stream",
          "text": [
            "Enter a number to evaluate: 5\n"
          ]
        },
        {
          "output_type": "execute_result",
          "data": {
            "text/plain": [
              "tensor([24.9268], device='cuda:0', grad_fn=<ReluBackward0>)"
            ]
          },
          "metadata": {},
          "execution_count": 124
        }
      ],
      "source": [
        "x = input(\"Enter a number to evaluate: \")\n",
        "x = torch.tensor([float(x)]).to(device=\"cuda\")\n",
        "\n",
        "model(x)"
      ]
    },
    {
      "cell_type": "code",
      "source": [],
      "metadata": {
        "id": "2c0oQol6vAj7"
      },
      "execution_count": 101,
      "outputs": []
    }
  ],
  "metadata": {
    "kernelspec": {
      "display_name": "Python 3",
      "name": "python3"
    },
    "language_info": {
      "codemirror_mode": {
        "name": "ipython",
        "version": 3
      },
      "file_extension": ".py",
      "mimetype": "text/x-python",
      "name": "python",
      "nbconvert_exporter": "python",
      "pygments_lexer": "ipython3",
      "version": "3.11.6"
    },
    "colab": {
      "provenance": [],
      "gpuType": "T4"
    },
    "accelerator": "GPU"
  },
  "nbformat": 4,
  "nbformat_minor": 0
}
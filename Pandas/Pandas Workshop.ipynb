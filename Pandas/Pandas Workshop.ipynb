{
 "cells": [
  {
   "cell_type": "code",
   "execution_count": null,
   "id": "3555ee33-7ae4-498d-b81a-49bd0a1086f8",
   "metadata": {
    "scrolled": true
   },
   "outputs": [],
   "source": [
    "pip install pandas"
   ]
  },
  {
   "cell_type": "code",
   "execution_count": null,
   "id": "7e0ac0aa-ab70-4aa5-87da-7250889b9574",
   "metadata": {},
   "outputs": [],
   "source": [
    "import pandas as pd"
   ]
  },
  {
   "cell_type": "markdown",
   "id": "161d3a58-d504-4104-aa72-6e85f3c7e7d9",
   "metadata": {},
   "source": [
    "encoding is specified for different binary interpretations for special characters, default is UTF-8, and you wouldnt have to specify the differenece but for this file, the encoding of the file us under a different standard so thats why thats there"
   ]
  },
  {
   "cell_type": "code",
   "execution_count": null,
   "id": "a74f8f08-991b-426e-bd5b-9ab53d90193d",
   "metadata": {},
   "outputs": [],
   "source": [
    "#give a name to the data frame\n",
    "# pd.read_csv(\"spotify-2023.csv\", encoding='iso-8859-1')"
   ]
  },
  {
   "cell_type": "code",
   "execution_count": null,
   "id": "d91893f3-c14c-464b-924e-f5a44d2680ee",
   "metadata": {},
   "outputs": [],
   "source": [
    "#show the data frame\n"
   ]
  },
  {
   "cell_type": "code",
   "execution_count": null,
   "id": "f11a36fe-2d8d-4c80-a1c8-1ed5f644c97e",
   "metadata": {},
   "outputs": [],
   "source": [
    "# show the first 10 rows, this is a method\n"
   ]
  },
  {
   "cell_type": "code",
   "execution_count": null,
   "id": "15c90c8d-99fc-4636-a955-1e8e833d814d",
   "metadata": {},
   "outputs": [],
   "source": [
    "# show the last 10\n",
    "#this is a method\n"
   ]
  },
  {
   "cell_type": "code",
   "execution_count": 1,
   "id": "79d03b3a-5666-4691-9195-63b2a06a8e11",
   "metadata": {},
   "outputs": [],
   "source": [
    "#show all the entries\n"
   ]
  },
  {
   "cell_type": "code",
   "execution_count": null,
   "id": "553012f9-eea4-4cae-84a4-de9efc704347",
   "metadata": {},
   "outputs": [],
   "source": [
    "# show the dimensions of the data frame, this command is an attribute\n",
    "\n",
    "#show only the number of rows, or columns\n"
   ]
  },
  {
   "cell_type": "code",
   "execution_count": null,
   "id": "524b07a8-867b-4605-a59b-e0b71024041d",
   "metadata": {},
   "outputs": [],
   "source": [
    "#name all the columns in the data frame\n"
   ]
  },
  {
   "cell_type": "code",
   "execution_count": null,
   "id": "45d1b008-3e42-44d8-a346-fd985a860a14",
   "metadata": {},
   "outputs": [],
   "source": [
    "#show all the values under the column streams\n"
   ]
  },
  {
   "cell_type": "code",
   "execution_count": null,
   "id": "ee58faa8-7490-4ada-b285-279dbad6e714",
   "metadata": {},
   "outputs": [],
   "source": [
    "#better way to show all the values under the column stream\n"
   ]
  },
  {
   "cell_type": "code",
   "execution_count": null,
   "id": "1f506fc5-1aa8-43de-9a12-a1047afa8366",
   "metadata": {},
   "outputs": [],
   "source": [
    "#show all rows in range x to y\n",
    "\n"
   ]
  },
  {
   "cell_type": "code",
   "execution_count": null,
   "id": "15d75634-d99c-4a08-b845-ad09746cf0ce",
   "metadata": {},
   "outputs": [],
   "source": [
    "#find all instances where the value matches what you are looking for\n"
   ]
  },
  {
   "cell_type": "code",
   "execution_count": null,
   "id": "90efbddc-89c9-4492-82f1-ed8068350745",
   "metadata": {},
   "outputs": [],
   "source": [
    "#find all the instances that have a certain attribute\n"
   ]
  },
  {
   "cell_type": "code",
   "execution_count": null,
   "id": "7fac01c1-6346-422e-9294-c8d6d41ef686",
   "metadata": {},
   "outputs": [],
   "source": [
    "#show the row at location x, at locations x,y\n",
    "\n",
    "#what is the difference between x,y and [x,y]\n"
   ]
  },
  {
   "cell_type": "code",
   "execution_count": null,
   "id": "ee15ad49-3284-412d-a099-cd359703f9b9",
   "metadata": {},
   "outputs": [],
   "source": [
    "#find a random sample of size n, default is 1\n"
   ]
  }
 ],
 "metadata": {
  "kernelspec": {
   "display_name": "Python 3 (ipykernel)",
   "language": "python",
   "name": "python3"
  },
  "language_info": {
   "codemirror_mode": {
    "name": "ipython",
    "version": 3
   },
   "file_extension": ".py",
   "mimetype": "text/x-python",
   "name": "python",
   "nbconvert_exporter": "python",
   "pygments_lexer": "ipython3",
   "version": "3.11.1"
  }
 },
 "nbformat": 4,
 "nbformat_minor": 5
}
